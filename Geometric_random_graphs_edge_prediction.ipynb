{
 "cells": [
  {
   "cell_type": "code",
   "execution_count": 650,
   "id": "d2b65157",
   "metadata": {},
   "outputs": [],
   "source": [
    "import numpy as np\n",
    "import matplotlib.pyplot as plt\n",
    "import scipy.special\n",
    "import math\n",
    "import ipywidgets\n",
    "%matplotlib inline"
   ]
  },
  {
   "cell_type": "code",
   "execution_count": 2,
   "id": "8736259b",
   "metadata": {},
   "outputs": [],
   "source": [
    "def gaussian_orthogonal_ensemble(n : int, d:int) -> np.array:\n",
    "    v = np.random.normal(size=(n,d))\n",
    "    A = v.dot(v.T)\n",
    "    D = np.outer(A.diagonal(), A.diagonal())\n",
    "    D = np.sqrt(D)\n",
    "    A /= D\n",
    "    return A"
   ]
  },
  {
   "cell_type": "code",
   "execution_count": 14,
   "id": "e575faa9",
   "metadata": {},
   "outputs": [],
   "source": [
    "def erdos_renyi(n : int, p : int) -> np.array:\n",
    "    A = np.random.uniform(size=(n,n))\n",
    "    for i in range(n):\n",
    "        A[i,i] = 0\n",
    "        for j in range(i):\n",
    "            A[i,j] = A[j,i]\n",
    "    A = ( A > 1-p ).astype(int)\n",
    "    return A"
   ]
  },
  {
   "cell_type": "code",
   "execution_count": 46,
   "id": "60003ff3",
   "metadata": {},
   "outputs": [],
   "source": [
    "def laplacian(A : np.array) -> np.array:\n",
    "    return -A + np.diag(A.dot(np.ones(A.shape[0])))"
   ]
  },
  {
   "cell_type": "code",
   "execution_count": 87,
   "id": "c5c902e8",
   "metadata": {},
   "outputs": [],
   "source": [
    "def density_from_threshold(d: int, h : float) -> float:\n",
    "    if h > 1:\n",
    "        return 1 - density_from_threshold(d, 2-h)\n",
    "    return scipy.special.betainc((d-1)/2, 1/2, 2*h - h*h)/2"
   ]
  },
  {
   "cell_type": "code",
   "execution_count": 96,
   "id": "e0036b64",
   "metadata": {},
   "outputs": [],
   "source": [
    "def invert(y, f, low=0, high=2, accuracy = 1e-9):\n",
    "    while high-low > accuracy:\n",
    "        mid = (high+low)/2\n",
    "        if f(mid) < y:\n",
    "            low = mid\n",
    "        else:\n",
    "            high = mid\n",
    "    return low"
   ]
  },
  {
   "cell_type": "code",
   "execution_count": 253,
   "id": "e7673160",
   "metadata": {},
   "outputs": [],
   "source": [
    "def gr_graph(n : int, p : float, d : int) -> np.array:\n",
    "    h = threshold_from_density(d, p)\n",
    "    A = gaussian_orthogonal_ensemble(n, d)\n",
    "    A = (A > 1 - h).astype(int)\n",
    "    for i in range(A.shape[0]):\n",
    "        A[i,i] = 0\n",
    "    return A"
   ]
  },
  {
   "cell_type": "code",
   "execution_count": 97,
   "id": "bf530407",
   "metadata": {},
   "outputs": [],
   "source": [
    "def threshold_from_density(d : int, p : float) -> float:\n",
    "    return invert(p, lambda x: density_from_threshold(d, x), accuracy=1e-15)"
   ]
  },
  {
   "cell_type": "code",
   "execution_count": 222,
   "id": "9b2a73d3",
   "metadata": {},
   "outputs": [],
   "source": [
    "def adjecency_lists(A):\n",
    "    adj_lists = []\n",
    "    for i in range(A.shape[0]):\n",
    "        cur_list = []\n",
    "        for j in range(A.shape[0]):\n",
    "            if A[i,j] == 1:\n",
    "                cur_list.append(j)\n",
    "        adj_lists.append(cur_list)\n",
    "    return adj_lists"
   ]
  },
  {
   "cell_type": "code",
   "execution_count": 358,
   "id": "fe9a481e",
   "metadata": {},
   "outputs": [],
   "source": [
    "def square_sparse_matrix(A):\n",
    "    A_sq = np.zeros(shape=A.shape)\n",
    "    adj_lists = adjecency_lists(A)\n",
    "    for i in range(A.shape[0]):\n",
    "        for u in adj_lists[i]:\n",
    "            for v in adj_lists[u]:\n",
    "                A_sq[i, v] += A[i,u]*A[u,v]\n",
    "    return A_sq"
   ]
  },
  {
   "cell_type": "code",
   "execution_count": 364,
   "id": "14ca958a",
   "metadata": {},
   "outputs": [],
   "source": [
    "def mult_by_sparse_matrix(A, B):\n",
    "    adj_lists = adjecency_lists(B)\n",
    "    res = np.zeros(shape = (A.shape[0], B.shape[1]))\n",
    "    for i in range(B.shape[1]):\n",
    "        for neigh in adj_lists[i]:\n",
    "            res[:, i] += A[:, neigh]*B[neigh,i]\n",
    "    return res"
   ]
  },
  {
   "cell_type": "code",
   "execution_count": 651,
   "id": "390ad092",
   "metadata": {},
   "outputs": [],
   "source": [
    "def common_neighbors_statistics(A, sparse=True):\n",
    "    if sparse:\n",
    "        common_neighbors = square_sparse_matrix(A)\n",
    "    else:\n",
    "        common_neighbors = A.dot(A)\n",
    "    connected_cn = []\n",
    "    unconnected_cn = []\n",
    "    for i in range(A.shape[0]):\n",
    "        for j in range(i):\n",
    "            if A[i,j] == 1:\n",
    "                connected_cn.append(common_neighbors[i,j])\n",
    "            else:\n",
    "                unconnected_cn.append(common_neighbors[i,j])\n",
    "    return (connected_cn, unconnected_cn)"
   ]
  },
  {
   "cell_type": "code",
   "execution_count": 659,
   "id": "3b663581",
   "metadata": {},
   "outputs": [],
   "source": [
    "def prepare_all_plots(A : np.array, bins_cnt = 50, sparse=True) -> dict:\n",
    "    res = {}\n",
    "    \n",
    "    w = np.linalg.eigvalsh(laplacian(A))\n",
    "    counts, bins = np.histogram(w[1:], bins=100)\n",
    "    res[\"spectrum\"] = (\"Spectrum density\", bins, counts)\n",
    "    \n",
    "    degs = A.dot(np.ones(A.shape[0]))\n",
    "    bin_width = int( (max(degs) - min(degs))/bins_cnt ) + 1\n",
    "    bins = np.linspace(0, bins_cnt - 1, bins_cnt)*bin_width + min(degs)\n",
    "    counts, bins = np.histogram(degs, bins=bins)\n",
    "    res[\"degrees\"] = (\"Degree distribution\", bins, counts)\n",
    "    \n",
    "        \n",
    "    if sparse:\n",
    "        bins = np.linspace(0, 20,21)\n",
    "    else:\n",
    "        bins = np.linspace(0, max(degs), bins_cnt)\n",
    "    con, uncon = common_neighbors_statistics(A, sparse=sparse)\n",
    "    counts,bins = np.histogram(con, bins=bins)\n",
    "    res[\"neigh_connected\"] = (\"Common neighbors of connected vertices\", bins, counts)\n",
    "    \n",
    "    counts,bins = np.histogram(uncon, bins=bins)\n",
    "    res[\"neigh_unconnected\"] = (\"Common neighbors of unconnected vertices\", bins, counts)\n",
    "\n",
    "    return res"
   ]
  },
  {
   "cell_type": "code",
   "execution_count": 658,
   "id": "87319a57",
   "metadata": {},
   "outputs": [],
   "source": [
    "def show_plots(plots, shape, plots_ids, axs = None):\n",
    "    if axs is None:\n",
    "        _, axs = plt.subplots(shape[0], shape[1], figsize=(20,15), squeeze=False)\n",
    "    for i in range(shape[0]):\n",
    "        for j in range(shape[1]):\n",
    "            current_plot = plots[plots_ids[i][j]]\n",
    "            axs[i,j].clear()\n",
    "            axs[i,j].set_xlabel(current_plot[0])\n",
    "            axs[i,j].hist(current_plot[1][:-1], bins = current_plot[1], weights = current_plot[2])\n",
    "    return axs"
   ]
  },
  {
   "cell_type": "markdown",
   "id": "21ba5378",
   "metadata": {},
   "source": [
    "## Geometric random graph $n=4000$, $p=20/4000$ (i.e. average degree is $20$), $d=10$"
   ]
  },
  {
   "cell_type": "code",
   "execution_count": 566,
   "id": "2ffdebca",
   "metadata": {},
   "outputs": [
    {
     "data": {
      "image/png": "[encoded data removed]",
      "text/plain": [
       "<Figure size 1440x1080 with 4 Axes>"
      ]
     },
     "metadata": {
      "needs_background": "light"
     },
     "output_type": "display_data"
    }
   ],
   "source": [
    "A_gr_ld = gr_graph(4000, 10/4000, 10)\n",
    "plots = prepare_all_plots(A_gr_ld)\n",
    "show_plots(plots, (2,2), [[\"spectrum\",\"degrees\"], [\"neigh_connected\", \"neigh_unconnected\"]])"
   ]
  },
  {
   "cell_type": "markdown",
   "id": "819f63ae",
   "metadata": {},
   "source": [
    "## Geometric random graph $n=4000$, $p=20/4000$ (i.e. average degree is $20$), $d=50$"
   ]
  },
  {
   "cell_type": "code",
   "execution_count": 670,
   "id": "79ad81a0",
   "metadata": {},
   "outputs": [
    {
     "data": {
      "text/plain": [
       "array([[<AxesSubplot:xlabel='Spectrum density'>,\n",
       "        <AxesSubplot:xlabel='Degree distribution'>],\n",
       "       [<AxesSubplot:xlabel='Common neighbors of connected vertices'>,\n",
       "        <AxesSubplot:xlabel='Common neighbors of unconnected vertices'>]],\n",
       "      dtype=object)"
      ]
     },
     "execution_count": 670,
     "metadata": {},
     "output_type": "execute_result"
    },
    {
     "data": {
      "image/png": "[encoded data removed]",
      "text/plain": [
       "<Figure size 1440x1080 with 4 Axes>"
      ]
     },
     "metadata": {
      "needs_background": "light"
     },
     "output_type": "display_data"
    }
   ],
   "source": [
    "A_gr = gr_graph(4000, 10/4000, 50)\n",
    "plots = prepare_all_plots(A_gr)\n",
    "show_plots(plots, (2,2), [[\"spectrum\",\"degrees\"], [\"neigh_connected\", \"neigh_unconnected\"]])"
   ]
  },
  {
   "cell_type": "markdown",
   "id": "f26d27d0",
   "metadata": {},
   "source": [
    "## Erdos-Renyi graph $G(n,p)$, $n=4000$, $p=20/4000$ (i.e. average degree $20$)"
   ]
  },
  {
   "cell_type": "code",
   "execution_count": 568,
   "id": "34d01da6",
   "metadata": {},
   "outputs": [
    {
     "data": {
      "image/png": "[encoded data removed]",
      "text/plain": [
       "<Figure size 1440x1080 with 4 Axes>"
      ]
     },
     "metadata": {
      "needs_background": "light"
     },
     "output_type": "display_data"
    }
   ],
   "source": [
    "A = erdos_renyi(4000, 10/4000)\n",
    "plots = prepare_all_plots(A)\n",
    "show_plots(plots, (2,2), [[\"spectrum\",\"degrees\"], [\"neigh_connected\", \"neigh_unconnected\"]])"
   ]
  },
  {
   "cell_type": "markdown",
   "id": "0729bf63",
   "metadata": {},
   "source": [
    "## GR(4000, 1/2, 50)"
   ]
  },
  {
   "cell_type": "code",
   "execution_count": 661,
   "id": "e4c0491b",
   "metadata": {},
   "outputs": [
    {
     "data": {
      "image/png": "[encoded data removed]",
      "text/plain": [
       "<Figure size 1440x1080 with 4 Axes>"
      ]
     },
     "metadata": {
      "needs_background": "light"
     },
     "output_type": "display_data"
    }
   ],
   "source": [
    "A_gr_dense = gr_graph(4000, 1/2, 50)\n",
    "plots = prepare_all_plots(A_gr_dense, sparse=False)\n",
    "_ = show_plots(plots, (2,2), [[\"spectrum\",\"degrees\"], [\"neigh_connected\", \"neigh_unconnected\"]])"
   ]
  },
  {
   "cell_type": "markdown",
   "id": "d717e57e",
   "metadata": {},
   "source": [
    "## G(4000, 1/2)"
   ]
  },
  {
   "cell_type": "code",
   "execution_count": 660,
   "id": "13235515",
   "metadata": {},
   "outputs": [
    {
     "data": {
      "text/plain": [
       "array([[<AxesSubplot:xlabel='Spectrum density'>,\n",
       "        <AxesSubplot:xlabel='Degree distribution'>],\n",
       "       [<AxesSubplot:xlabel='Common neighbors of connected vertices'>,\n",
       "        <AxesSubplot:xlabel='Common neighbors of unconnected vertices'>]],\n",
       "      dtype=object)"
      ]
     },
     "execution_count": 660,
     "metadata": {},
     "output_type": "execute_result"
    },
    {
     "data": {
      "image/png": "[encoded data removed]",
      "text/plain": [
       "<Figure size 1440x1080 with 4 Axes>"
      ]
     },
     "metadata": {
      "needs_background": "light"
     },
     "output_type": "display_data"
    }
   ],
   "source": [
    "A_dense = erdos_renyi(4000, 1/2)\n",
    "plots = prepare_all_plots(A_dense, sparse=False)\n",
    "show_plots(plots, (2,2), [[\"spectrum\",\"degrees\"], [\"neigh_connected\", \"neigh_unconnected\"]])"
   ]
  },
  {
   "cell_type": "code",
   "execution_count": 577,
   "id": "c8de8e23",
   "metadata": {},
   "outputs": [
    {
     "name": "stdout",
     "output_type": "stream",
     "text": [
      "10\n",
      "14\n",
      "19\n",
      "27\n",
      "38\n",
      "53\n",
      "75\n",
      "105\n",
      "147\n",
      "206\n",
      "289\n",
      "404\n"
     ]
    }
   ],
   "source": [
    "d=10.\n",
    "xs = []\n",
    "ys = []\n",
    "all_plots_list = []\n",
    "while d < 500.:\n",
    "    print(int(d))\n",
    "    xs.append(int(d))\n",
    "    A_gr_tmp = gr_graph(4000, 10/4000, int(d))\n",
    "    con, uncon = common_neighbors_statistics(A_gr_tmp, sparse=True)\n",
    "    thresholding_alg = sum([1 if t >= 1 else 0 for t in con])\n",
    "    thresholding_success_rate = thresholding_alg / len(con)\n",
    "    ys.append(thresholding_success_rate)\n",
    "    d = d *1.4\n",
    "    all_plots_list.append(prepare_all_plots(A_gr_tmp))"
   ]
  },
  {
   "cell_type": "code",
   "execution_count": 626,
   "id": "fe018260",
   "metadata": {},
   "outputs": [],
   "source": [
    "def plot_precission(xs, ys, d, axs = None):\n",
    "    if axs is None:\n",
    "        fig = plt.figure()\n",
    "        axs = fig.subplots()\n",
    "    axs.clear()\n",
    "    axs.plot(xs, ys)\n",
    "    axs.set_xlabel(\"dimension\")\n",
    "    axs.set_ylabel(\"Pr[x and y has common neighbor | x ~ y]\")\n",
    "    axs.set_title(\"Edge prediction based on existance of common neighbor, n=4000, p=10/4000\")\n",
    "    axs.axvline(d, color=\"red\")\n",
    "    return axs"
   ]
  },
  {
   "cell_type": "code",
   "execution_count": 619,
   "id": "9d123da8",
   "metadata": {},
   "outputs": [
    {
     "data": {
      "application/javascript": [
       "/* Put everything inside the global mpl namespace */\n",
       "/* global mpl */\n",
       "window.mpl = {};\n",
       "\n",
       "mpl.get_websocket_type = function () {\n",
       "    if (typeof WebSocket !== 'undefined') {\n",
       "        return WebSocket;\n",
       "    } else if (typeof MozWebSocket !== 'undefined') {\n",
       "        return MozWebSocket;\n",
       "    } else {\n",
       "        alert(\n",
       "            'Your browser does not have WebSocket support. ' +\n",
       "                'Please try Chrome, Safari or Firefox ≥ 6. ' +\n",
       "                'Firefox 4 and 5 are also supported but you ' +\n",
       "                'have to enable WebSockets in about:config.'\n",
       "        );\n",
       "    }\n",
       "};\n",
       "\n",
       "mpl.figure = function (figure_id, websocket, ondownload, parent_element) {\n",
       "    this.id = figure_id;\n",
       "\n",
       "    this.ws = websocket;\n",
       "\n",
       "    this.supports_binary = this.ws.binaryType !== undefined;\n",
       "\n",
       "    if (!this.supports_binary) {\n",
       "        var warnings = document.getElementById('mpl-warnings');\n",
       "        if (warnings) {\n",
       "            warnings.style.display = 'block';\n",
       "            warnings.textContent =\n",
       "                'This browser does not support binary websocket messages. ' +\n",
       "                'Performance may be slow.';\n",
       "        }\n",
       "    }\n",
       "\n",
       "    this.imageObj = new Image();\n",
       "\n",
       "    this.context = undefined;\n",
       "    this.message = undefined;\n",
       "    this.canvas = undefined;\n",
       "    this.rubberband_canvas = undefined;\n",
       "    this.rubberband_context = undefined;\n",
       "    this.format_dropdown = undefined;\n",
       "\n",
       "    this.image_mode = 'full';\n",
       "\n",
       "    this.root = document.createElement('div');\n",
       "    this.root.setAttribute('style', 'display: inline-block');\n",
       "    this._root_extra_style(this.root);\n",
       "\n",
       "    parent_element.appendChild(this.root);\n",
       "\n",
       "    this._init_header(this);\n",
       "    this._init_canvas(this);\n",
       "    this._init_toolbar(this);\n",
       "\n",
       "    var fig = this;\n",
       "\n",
       "    this.waiting = false;\n",
       "\n",
       "    this.ws.onopen = function () {\n",
       "        fig.send_message('supports_binary', { value: fig.supports_binary });\n",
       "        fig.send_message('send_image_mode', {});\n",
       "        if (fig.ratio !== 1) {\n",
       "            fig.send_message('set_device_pixel_ratio', {\n",
       "                device_pixel_ratio: fig.ratio,\n",
       "            });\n",
       "        }\n",
       "        fig.send_message('refresh', {});\n",
       "    };\n",
       "\n",
       "    this.imageObj.onload = function () {\n",
       "        if (fig.image_mode === 'full') {\n",
       "            // Full images could contain transparency (where diff images\n",
       "            // almost always do), so we need to clear the canvas so that\n",
       "            // there is no ghosting.\n",
       "            fig.context.clearRect(0, 0, fig.canvas.width, fig.canvas.height);\n",
       "        }\n",
       "        fig.context.drawImage(fig.imageObj, 0, 0);\n",
       "    };\n",
       "\n",
       "    this.imageObj.onunload = function () {\n",
       "        fig.ws.close();\n",
       "    };\n",
       "\n",
       "    this.ws.onmessage = this._make_on_message_function(this);\n",
       "\n",
       "    this.ondownload = ondownload;\n",
       "};\n",
       "\n",
       "mpl.figure.prototype._init_header = function () {\n",
       "    var titlebar = document.createElement('div');\n",
       "    titlebar.classList =\n",
       "        'ui-dialog-titlebar ui-widget-header ui-corner-all ui-helper-clearfix';\n",
       "    var titletext = document.createElement('div');\n",
       "    titletext.classList = 'ui-dialog-title';\n",
       "    titletext.setAttribute(\n",
       "        'style',\n",
       "        'width: 100%; text-align: center; padding: 3px;'\n",
       "    );\n",
       "    titlebar.appendChild(titletext);\n",
       "    this.root.appendChild(titlebar);\n",
       "    this.header = titletext;\n",
       "};\n",
       "\n",
       "mpl.figure.prototype._canvas_extra_style = function (_canvas_div) {};\n",
       "\n",
       "mpl.figure.prototype._root_extra_style = function (_canvas_div) {};\n",
       "\n",
       "mpl.figure.prototype._init_canvas = function () {\n",
       "    var fig = this;\n",
       "\n",
       "    var canvas_div = (this.canvas_div = document.createElement('div'));\n",
       "    canvas_div.setAttribute(\n",
       "        'style',\n",
       "        'border: 1px solid #ddd;' +\n",
       "            'box-sizing: content-box;' +\n",
       "            'clear: both;' +\n",
       "            'min-height: 1px;' +\n",
       "            'min-width: 1px;' +\n",
       "            'outline: 0;' +\n",
       "            'overflow: hidden;' +\n",
       "            'position: relative;' +\n",
       "            'resize: both;'\n",
       "    );\n",
       "\n",
       "    function on_keyboard_event_closure(name) {\n",
       "        return function (event) {\n",
       "            return fig.key_event(event, name);\n",
       "        };\n",
       "    }\n",
       "\n",
       "    canvas_div.addEventListener(\n",
       "        'keydown',\n",
       "        on_keyboard_event_closure('key_press')\n",
       "    );\n",
       "    canvas_div.addEventListener(\n",
       "        'keyup',\n",
       "        on_keyboard_event_closure('key_release')\n",
       "    );\n",
       "\n",
       "    this._canvas_extra_style(canvas_div);\n",
       "    this.root.appendChild(canvas_div);\n",
       "\n",
       "    var canvas = (this.canvas = document.createElement('canvas'));\n",
       "    canvas.classList.add('mpl-canvas');\n",
       "    canvas.setAttribute('style', 'box-sizing: content-box;');\n",
       "\n",
       "    this.context = canvas.getContext('2d');\n",
       "\n",
       "    var backingStore =\n",
       "        this.context.backingStorePixelRatio ||\n",
       "        this.context.webkitBackingStorePixelRatio ||\n",
       "        this.context.mozBackingStorePixelRatio ||\n",
       "        this.context.msBackingStorePixelRatio ||\n",
       "        this.context.oBackingStorePixelRatio ||\n",
       "        this.context.backingStorePixelRatio ||\n",
       "        1;\n",
       "\n",
       "    this.ratio = (window.devicePixelRatio || 1) / backingStore;\n",
       "\n",
       "    var rubberband_canvas = (this.rubberband_canvas = document.createElement(\n",
       "        'canvas'\n",
       "    ));\n",
       "    rubberband_canvas.setAttribute(\n",
       "        'style',\n",
       "        'box-sizing: content-box; position: absolute; left: 0; top: 0; z-index: 1;'\n",
       "    );\n",
       "\n",
       "    // Apply a ponyfill if ResizeObserver is not implemented by browser.\n",
       "    if (this.ResizeObserver === undefined) {\n",
       "        if (window.ResizeObserver !== undefined) {\n",
       "            this.ResizeObserver = window.ResizeObserver;\n",
       "        } else {\n",
       "            var obs = _JSXTOOLS_RESIZE_OBSERVER({});\n",
       "            this.ResizeObserver = obs.ResizeObserver;\n",
       "        }\n",
       "    }\n",
       "\n",
       "    this.resizeObserverInstance = new this.ResizeObserver(function (entries) {\n",
       "        var nentries = entries.length;\n",
       "        for (var i = 0; i < nentries; i++) {\n",
       "            var entry = entries[i];\n",
       "            var width, height;\n",
       "            if (entry.contentBoxSize) {\n",
       "                if (entry.contentBoxSize instanceof Array) {\n",
       "                    // Chrome 84 implements new version of spec.\n",
       "                    width = entry.contentBoxSize[0].inlineSize;\n",
       "                    height = entry.contentBoxSize[0].blockSize;\n",
       "                } else {\n",
       "                    // Firefox implements old version of spec.\n",
       "                    width = entry.contentBoxSize.inlineSize;\n",
       "                    height = entry.contentBoxSize.blockSize;\n",
       "                }\n",
       "            } else {\n",
       "                // Chrome <84 implements even older version of spec.\n",
       "                width = entry.contentRect.width;\n",
       "                height = entry.contentRect.height;\n",
       "            }\n",
       "\n",
       "            // Keep the size of the canvas and rubber band canvas in sync with\n",
       "            // the canvas container.\n",
       "            if (entry.devicePixelContentBoxSize) {\n",
       "                // Chrome 84 implements new version of spec.\n",
       "                canvas.setAttribute(\n",
       "                    'width',\n",
       "                    entry.devicePixelContentBoxSize[0].inlineSize\n",
       "                );\n",
       "                canvas.setAttribute(\n",
       "                    'height',\n",
       "                    entry.devicePixelContentBoxSize[0].blockSize\n",
       "                );\n",
       "            } else {\n",
       "                canvas.setAttribute('width', width * fig.ratio);\n",
       "                canvas.setAttribute('height', height * fig.ratio);\n",
       "            }\n",
       "            canvas.setAttribute(\n",
       "                'style',\n",
       "                'width: ' + width + 'px; height: ' + height + 'px;'\n",
       "            );\n",
       "\n",
       "            rubberband_canvas.setAttribute('width', width);\n",
       "            rubberband_canvas.setAttribute('height', height);\n",
       "\n",
       "            // And update the size in Python. We ignore the initial 0/0 size\n",
       "            // that occurs as the element is placed into the DOM, which should\n",
       "            // otherwise not happen due to the minimum size styling.\n",
       "            if (fig.ws.readyState == 1 && width != 0 && height != 0) {\n",
       "                fig.request_resize(width, height);\n",
       "            }\n",
       "        }\n",
       "    });\n",
       "    this.resizeObserverInstance.observe(canvas_div);\n",
       "\n",
       "    function on_mouse_event_closure(name) {\n",
       "        return function (event) {\n",
       "            return fig.mouse_event(event, name);\n",
       "        };\n",
       "    }\n",
       "\n",
       "    rubberband_canvas.addEventListener(\n",
       "        'mousedown',\n",
       "        on_mouse_event_closure('button_press')\n",
       "    );\n",
       "    rubberband_canvas.addEventListener(\n",
       "        'mouseup',\n",
       "        on_mouse_event_closure('button_release')\n",
       "    );\n",
       "    rubberband_canvas.addEventListener(\n",
       "        'dblclick',\n",
       "        on_mouse_event_closure('dblclick')\n",
       "    );\n",
       "    // Throttle sequential mouse events to 1 every 20ms.\n",
       "    rubberband_canvas.addEventListener(\n",
       "        'mousemove',\n",
       "        on_mouse_event_closure('motion_notify')\n",
       "    );\n",
       "\n",
       "    rubberband_canvas.addEventListener(\n",
       "        'mouseenter',\n",
       "        on_mouse_event_closure('figure_enter')\n",
       "    );\n",
       "    rubberband_canvas.addEventListener(\n",
       "        'mouseleave',\n",
       "        on_mouse_event_closure('figure_leave')\n",
       "    );\n",
       "\n",
       "    canvas_div.addEventListener('wheel', function (event) {\n",
       "        if (event.deltaY < 0) {\n",
       "            event.step = 1;\n",
       "        } else {\n",
       "            event.step = -1;\n",
       "        }\n",
       "        on_mouse_event_closure('scroll')(event);\n",
       "    });\n",
       "\n",
       "    canvas_div.appendChild(canvas);\n",
       "    canvas_div.appendChild(rubberband_canvas);\n",
       "\n",
       "    this.rubberband_context = rubberband_canvas.getContext('2d');\n",
       "    this.rubberband_context.strokeStyle = '#000000';\n",
       "\n",
       "    this._resize_canvas = function (width, height, forward) {\n",
       "        if (forward) {\n",
       "            canvas_div.style.width = width + 'px';\n",
       "            canvas_div.style.height = height + 'px';\n",
       "        }\n",
       "    };\n",
       "\n",
       "    // Disable right mouse context menu.\n",
       "    this.rubberband_canvas.addEventListener('contextmenu', function (_e) {\n",
       "        event.preventDefault();\n",
       "        return false;\n",
       "    });\n",
       "\n",
       "    function set_focus() {\n",
       "        canvas.focus();\n",
       "        canvas_div.focus();\n",
       "    }\n",
       "\n",
       "    window.setTimeout(set_focus, 100);\n",
       "};\n",
       "\n",
       "mpl.figure.prototype._init_toolbar = function () {\n",
       "    var fig = this;\n",
       "\n",
       "    var toolbar = document.createElement('div');\n",
       "    toolbar.classList = 'mpl-toolbar';\n",
       "    this.root.appendChild(toolbar);\n",
       "\n",
       "    function on_click_closure(name) {\n",
       "        return function (_event) {\n",
       "            return fig.toolbar_button_onclick(name);\n",
       "        };\n",
       "    }\n",
       "\n",
       "    function on_mouseover_closure(tooltip) {\n",
       "        return function (event) {\n",
       "            if (!event.currentTarget.disabled) {\n",
       "                return fig.toolbar_button_onmouseover(tooltip);\n",
       "            }\n",
       "        };\n",
       "    }\n",
       "\n",
       "    fig.buttons = {};\n",
       "    var buttonGroup = document.createElement('div');\n",
       "    buttonGroup.classList = 'mpl-button-group';\n",
       "    for (var toolbar_ind in mpl.toolbar_items) {\n",
       "        var name = mpl.toolbar_items[toolbar_ind][0];\n",
       "        var tooltip = mpl.toolbar_items[toolbar_ind][1];\n",
       "        var image = mpl.toolbar_items[toolbar_ind][2];\n",
       "        var method_name = mpl.toolbar_items[toolbar_ind][3];\n",
       "\n",
       "        if (!name) {\n",
       "            /* Instead of a spacer, we start a new button group. */\n",
       "            if (buttonGroup.hasChildNodes()) {\n",
       "                toolbar.appendChild(buttonGroup);\n",
       "            }\n",
       "            buttonGroup = document.createElement('div');\n",
       "            buttonGroup.classList = 'mpl-button-group';\n",
       "            continue;\n",
       "        }\n",
       "\n",
       "        var button = (fig.buttons[name] = document.createElement('button'));\n",
       "        button.classList = 'mpl-widget';\n",
       "        button.setAttribute('role', 'button');\n",
       "        button.setAttribute('aria-disabled', 'false');\n",
       "        button.addEventListener('click', on_click_closure(method_name));\n",
       "        button.addEventListener('mouseover', on_mouseover_closure(tooltip));\n",
       "\n",
       "        var icon_img = document.createElement('img');\n",
       "        icon_img.src = '_images/' + image + '.png';\n",
       "        icon_img.srcset = '_images/' + image + '_large.png 2x';\n",
       "        icon_img.alt = tooltip;\n",
       "        button.appendChild(icon_img);\n",
       "\n",
       "        buttonGroup.appendChild(button);\n",
       "    }\n",
       "\n",
       "    if (buttonGroup.hasChildNodes()) {\n",
       "        toolbar.appendChild(buttonGroup);\n",
       "    }\n",
       "\n",
       "    var fmt_picker = document.createElement('select');\n",
       "    fmt_picker.classList = 'mpl-widget';\n",
       "    toolbar.appendChild(fmt_picker);\n",
       "    this.format_dropdown = fmt_picker;\n",
       "\n",
       "    for (var ind in mpl.extensions) {\n",
       "        var fmt = mpl.extensions[ind];\n",
       "        var option = document.createElement('option');\n",
       "        option.selected = fmt === mpl.default_extension;\n",
       "        option.innerHTML = fmt;\n",
       "        fmt_picker.appendChild(option);\n",
       "    }\n",
       "\n",
       "    var status_bar = document.createElement('span');\n",
       "    status_bar.classList = 'mpl-message';\n",
       "    toolbar.appendChild(status_bar);\n",
       "    this.message = status_bar;\n",
       "};\n",
       "\n",
       "mpl.figure.prototype.request_resize = function (x_pixels, y_pixels) {\n",
       "    // Request matplotlib to resize the figure. Matplotlib will then trigger a resize in the client,\n",
       "    // which will in turn request a refresh of the image.\n",
       "    this.send_message('resize', { width: x_pixels, height: y_pixels });\n",
       "};\n",
       "\n",
       "mpl.figure.prototype.send_message = function (type, properties) {\n",
       "    properties['type'] = type;\n",
       "    properties['figure_id'] = this.id;\n",
       "    this.ws.send(JSON.stringify(properties));\n",
       "};\n",
       "\n",
       "mpl.figure.prototype.send_draw_message = function () {\n",
       "    if (!this.waiting) {\n",
       "        this.waiting = true;\n",
       "        this.ws.send(JSON.stringify({ type: 'draw', figure_id: this.id }));\n",
       "    }\n",
       "};\n",
       "\n",
       "mpl.figure.prototype.handle_save = function (fig, _msg) {\n",
       "    var format_dropdown = fig.format_dropdown;\n",
       "    var format = format_dropdown.options[format_dropdown.selectedIndex].value;\n",
       "    fig.ondownload(fig, format);\n",
       "};\n",
       "\n",
       "mpl.figure.prototype.handle_resize = function (fig, msg) {\n",
       "    var size = msg['size'];\n",
       "    if (size[0] !== fig.canvas.width || size[1] !== fig.canvas.height) {\n",
       "        fig._resize_canvas(size[0], size[1], msg['forward']);\n",
       "        fig.send_message('refresh', {});\n",
       "    }\n",
       "};\n",
       "\n",
       "mpl.figure.prototype.handle_rubberband = function (fig, msg) {\n",
       "    var x0 = msg['x0'] / fig.ratio;\n",
       "    var y0 = (fig.canvas.height - msg['y0']) / fig.ratio;\n",
       "    var x1 = msg['x1'] / fig.ratio;\n",
       "    var y1 = (fig.canvas.height - msg['y1']) / fig.ratio;\n",
       "    x0 = Math.floor(x0) + 0.5;\n",
       "    y0 = Math.floor(y0) + 0.5;\n",
       "    x1 = Math.floor(x1) + 0.5;\n",
       "    y1 = Math.floor(y1) + 0.5;\n",
       "    var min_x = Math.min(x0, x1);\n",
       "    var min_y = Math.min(y0, y1);\n",
       "    var width = Math.abs(x1 - x0);\n",
       "    var height = Math.abs(y1 - y0);\n",
       "\n",
       "    fig.rubberband_context.clearRect(\n",
       "        0,\n",
       "        0,\n",
       "        fig.canvas.width / fig.ratio,\n",
       "        fig.canvas.height / fig.ratio\n",
       "    );\n",
       "\n",
       "    fig.rubberband_context.strokeRect(min_x, min_y, width, height);\n",
       "};\n",
       "\n",
       "mpl.figure.prototype.handle_figure_label = function (fig, msg) {\n",
       "    // Updates the figure title.\n",
       "    fig.header.textContent = msg['label'];\n",
       "};\n",
       "\n",
       "mpl.figure.prototype.handle_cursor = function (fig, msg) {\n",
       "    fig.rubberband_canvas.style.cursor = msg['cursor'];\n",
       "};\n",
       "\n",
       "mpl.figure.prototype.handle_message = function (fig, msg) {\n",
       "    fig.message.textContent = msg['message'];\n",
       "};\n",
       "\n",
       "mpl.figure.prototype.handle_draw = function (fig, _msg) {\n",
       "    // Request the server to send over a new figure.\n",
       "    fig.send_draw_message();\n",
       "};\n",
       "\n",
       "mpl.figure.prototype.handle_image_mode = function (fig, msg) {\n",
       "    fig.image_mode = msg['mode'];\n",
       "};\n",
       "\n",
       "mpl.figure.prototype.handle_history_buttons = function (fig, msg) {\n",
       "    for (var key in msg) {\n",
       "        if (!(key in fig.buttons)) {\n",
       "            continue;\n",
       "        }\n",
       "        fig.buttons[key].disabled = !msg[key];\n",
       "        fig.buttons[key].setAttribute('aria-disabled', !msg[key]);\n",
       "    }\n",
       "};\n",
       "\n",
       "mpl.figure.prototype.handle_navigate_mode = function (fig, msg) {\n",
       "    if (msg['mode'] === 'PAN') {\n",
       "        fig.buttons['Pan'].classList.add('active');\n",
       "        fig.buttons['Zoom'].classList.remove('active');\n",
       "    } else if (msg['mode'] === 'ZOOM') {\n",
       "        fig.buttons['Pan'].classList.remove('active');\n",
       "        fig.buttons['Zoom'].classList.add('active');\n",
       "    } else {\n",
       "        fig.buttons['Pan'].classList.remove('active');\n",
       "        fig.buttons['Zoom'].classList.remove('active');\n",
       "    }\n",
       "};\n",
       "\n",
       "mpl.figure.prototype.updated_canvas_event = function () {\n",
       "    // Called whenever the canvas gets updated.\n",
       "    this.send_message('ack', {});\n",
       "};\n",
       "\n",
       "// A function to construct a web socket function for onmessage handling.\n",
       "// Called in the figure constructor.\n",
       "mpl.figure.prototype._make_on_message_function = function (fig) {\n",
       "    return function socket_on_message(evt) {\n",
       "        if (evt.data instanceof Blob) {\n",
       "            var img = evt.data;\n",
       "            if (img.type !== 'image/png') {\n",
       "                /* FIXME: We get \"Resource interpreted as Image but\n",
       "                 * transferred with MIME type text/plain:\" errors on\n",
       "                 * Chrome.  But how to set the MIME type?  It doesn't seem\n",
       "                 * to be part of the websocket stream */\n",
       "                img.type = 'image/png';\n",
       "            }\n",
       "\n",
       "            /* Free the memory for the previous frames */\n",
       "            if (fig.imageObj.src) {\n",
       "                (window.URL || window.webkitURL).revokeObjectURL(\n",
       "                    fig.imageObj.src\n",
       "                );\n",
       "            }\n",
       "\n",
       "            fig.imageObj.src = (window.URL || window.webkitURL).createObjectURL(\n",
       "                img\n",
       "            );\n",
       "            fig.updated_canvas_event();\n",
       "            fig.waiting = false;\n",
       "            return;\n",
       "        } else if (\n",
       "            typeof evt.data === 'string' &&\n",
       "            evt.data.slice(0, 21) === 'data:image/png;base64'\n",
       "        ) {\n",
       "            fig.imageObj.src = evt.data;\n",
       "            fig.updated_canvas_event();\n",
       "            fig.waiting = false;\n",
       "            return;\n",
       "        }\n",
       "\n",
       "        var msg = JSON.parse(evt.data);\n",
       "        var msg_type = msg['type'];\n",
       "\n",
       "        // Call the  \"handle_{type}\" callback, which takes\n",
       "        // the figure and JSON message as its only arguments.\n",
       "        try {\n",
       "            var callback = fig['handle_' + msg_type];\n",
       "        } catch (e) {\n",
       "            console.log(\n",
       "                \"No handler for the '\" + msg_type + \"' message type: \",\n",
       "                msg\n",
       "            );\n",
       "            return;\n",
       "        }\n",
       "\n",
       "        if (callback) {\n",
       "            try {\n",
       "                // console.log(\"Handling '\" + msg_type + \"' message: \", msg);\n",
       "                callback(fig, msg);\n",
       "            } catch (e) {\n",
       "                console.log(\n",
       "                    \"Exception inside the 'handler_\" + msg_type + \"' callback:\",\n",
       "                    e,\n",
       "                    e.stack,\n",
       "                    msg\n",
       "                );\n",
       "            }\n",
       "        }\n",
       "    };\n",
       "};\n",
       "\n",
       "// from https://stackoverflow.com/questions/1114465/getting-mouse-location-in-canvas\n",
       "mpl.findpos = function (e) {\n",
       "    //this section is from http://www.quirksmode.org/js/events_properties.html\n",
       "    var targ;\n",
       "    if (!e) {\n",
       "        e = window.event;\n",
       "    }\n",
       "    if (e.target) {\n",
       "        targ = e.target;\n",
       "    } else if (e.srcElement) {\n",
       "        targ = e.srcElement;\n",
       "    }\n",
       "    if (targ.nodeType === 3) {\n",
       "        // defeat Safari bug\n",
       "        targ = targ.parentNode;\n",
       "    }\n",
       "\n",
       "    // pageX,Y are the mouse positions relative to the document\n",
       "    var boundingRect = targ.getBoundingClientRect();\n",
       "    var x = e.pageX - (boundingRect.left + document.body.scrollLeft);\n",
       "    var y = e.pageY - (boundingRect.top + document.body.scrollTop);\n",
       "\n",
       "    return { x: x, y: y };\n",
       "};\n",
       "\n",
       "/*\n",
       " * return a copy of an object with only non-object keys\n",
       " * we need this to avoid circular references\n",
       " * https://stackoverflow.com/a/24161582/3208463\n",
       " */\n",
       "function simpleKeys(original) {\n",
       "    return Object.keys(original).reduce(function (obj, key) {\n",
       "        if (typeof original[key] !== 'object') {\n",
       "            obj[key] = original[key];\n",
       "        }\n",
       "        return obj;\n",
       "    }, {});\n",
       "}\n",
       "\n",
       "mpl.figure.prototype.mouse_event = function (event, name) {\n",
       "    var canvas_pos = mpl.findpos(event);\n",
       "\n",
       "    if (name === 'button_press') {\n",
       "        this.canvas.focus();\n",
       "        this.canvas_div.focus();\n",
       "    }\n",
       "\n",
       "    var x = canvas_pos.x * this.ratio;\n",
       "    var y = canvas_pos.y * this.ratio;\n",
       "\n",
       "    this.send_message(name, {\n",
       "        x: x,\n",
       "        y: y,\n",
       "        button: event.button,\n",
       "        step: event.step,\n",
       "        guiEvent: simpleKeys(event),\n",
       "    });\n",
       "\n",
       "    /* This prevents the web browser from automatically changing to\n",
       "     * the text insertion cursor when the button is pressed.  We want\n",
       "     * to control all of the cursor setting manually through the\n",
       "     * 'cursor' event from matplotlib */\n",
       "    event.preventDefault();\n",
       "    return false;\n",
       "};\n",
       "\n",
       "mpl.figure.prototype._key_event_extra = function (_event, _name) {\n",
       "    // Handle any extra behaviour associated with a key event\n",
       "};\n",
       "\n",
       "mpl.figure.prototype.key_event = function (event, name) {\n",
       "    // Prevent repeat events\n",
       "    if (name === 'key_press') {\n",
       "        if (event.key === this._key) {\n",
       "            return;\n",
       "        } else {\n",
       "            this._key = event.key;\n",
       "        }\n",
       "    }\n",
       "    if (name === 'key_release') {\n",
       "        this._key = null;\n",
       "    }\n",
       "\n",
       "    var value = '';\n",
       "    if (event.ctrlKey && event.key !== 'Control') {\n",
       "        value += 'ctrl+';\n",
       "    }\n",
       "    else if (event.altKey && event.key !== 'Alt') {\n",
       "        value += 'alt+';\n",
       "    }\n",
       "    else if (event.shiftKey && event.key !== 'Shift') {\n",
       "        value += 'shift+';\n",
       "    }\n",
       "\n",
       "    value += 'k' + event.key;\n",
       "\n",
       "    this._key_event_extra(event, name);\n",
       "\n",
       "    this.send_message(name, { key: value, guiEvent: simpleKeys(event) });\n",
       "    return false;\n",
       "};\n",
       "\n",
       "mpl.figure.prototype.toolbar_button_onclick = function (name) {\n",
       "    if (name === 'download') {\n",
       "        this.handle_save(this, null);\n",
       "    } else {\n",
       "        this.send_message('toolbar_button', { name: name });\n",
       "    }\n",
       "};\n",
       "\n",
       "mpl.figure.prototype.toolbar_button_onmouseover = function (tooltip) {\n",
       "    this.message.textContent = tooltip;\n",
       "};\n",
       "\n",
       "///////////////// REMAINING CONTENT GENERATED BY embed_js.py /////////////////\n",
       "// prettier-ignore\n",
       "var _JSXTOOLS_RESIZE_OBSERVER=function(A){var t,i=new WeakMap,n=new WeakMap,a=new WeakMap,r=new WeakMap,o=new Set;function s(e){if(!(this instanceof s))throw new TypeError(\"Constructor requires 'new' operator\");i.set(this,e)}function h(){throw new TypeError(\"Function is not a constructor\")}function c(e,t,i,n){e=0 in arguments?Number(arguments[0]):0,t=1 in arguments?Number(arguments[1]):0,i=2 in arguments?Number(arguments[2]):0,n=3 in arguments?Number(arguments[3]):0,this.right=(this.x=this.left=e)+(this.width=i),this.bottom=(this.y=this.top=t)+(this.height=n),Object.freeze(this)}function d(){t=requestAnimationFrame(d);var s=new WeakMap,p=new Set;o.forEach((function(t){r.get(t).forEach((function(i){var r=t instanceof window.SVGElement,o=a.get(t),d=r?0:parseFloat(o.paddingTop),f=r?0:parseFloat(o.paddingRight),l=r?0:parseFloat(o.paddingBottom),u=r?0:parseFloat(o.paddingLeft),g=r?0:parseFloat(o.borderTopWidth),m=r?0:parseFloat(o.borderRightWidth),w=r?0:parseFloat(o.borderBottomWidth),b=u+f,F=d+l,v=(r?0:parseFloat(o.borderLeftWidth))+m,W=g+w,y=r?0:t.offsetHeight-W-t.clientHeight,E=r?0:t.offsetWidth-v-t.clientWidth,R=b+v,z=F+W,M=r?t.width:parseFloat(o.width)-R-E,O=r?t.height:parseFloat(o.height)-z-y;if(n.has(t)){var k=n.get(t);if(k[0]===M&&k[1]===O)return}n.set(t,[M,O]);var S=Object.create(h.prototype);S.target=t,S.contentRect=new c(u,d,M,O),s.has(i)||(s.set(i,[]),p.add(i)),s.get(i).push(S)}))})),p.forEach((function(e){i.get(e).call(e,s.get(e),e)}))}return s.prototype.observe=function(i){if(i instanceof window.Element){r.has(i)||(r.set(i,new Set),o.add(i),a.set(i,window.getComputedStyle(i)));var n=r.get(i);n.has(this)||n.add(this),cancelAnimationFrame(t),t=requestAnimationFrame(d)}},s.prototype.unobserve=function(i){if(i instanceof window.Element&&r.has(i)){var n=r.get(i);n.has(this)&&(n.delete(this),n.size||(r.delete(i),o.delete(i))),n.size||r.delete(i),o.size||cancelAnimationFrame(t)}},A.DOMRectReadOnly=c,A.ResizeObserver=s,A.ResizeObserverEntry=h,A}; // eslint-disable-line\n",
       "mpl.toolbar_items = [[\"Home\", \"Reset original view\", \"fa fa-home icon-home\", \"home\"], [\"Back\", \"Back to previous view\", \"fa fa-arrow-left icon-arrow-left\", \"back\"], [\"Forward\", \"Forward to next view\", \"fa fa-arrow-right icon-arrow-right\", \"forward\"], [\"\", \"\", \"\", \"\"], [\"Pan\", \"Left button pans, Right button zooms\\nx/y fixes axis, CTRL fixes aspect\", \"fa fa-arrows icon-move\", \"pan\"], [\"Zoom\", \"Zoom to rectangle\\nx/y fixes axis\", \"fa fa-square-o icon-check-empty\", \"zoom\"], [\"\", \"\", \"\", \"\"], [\"Download\", \"Download plot\", \"fa fa-floppy-o icon-save\", \"download\"]];\n",
       "\n",
       "mpl.extensions = [\"eps\", \"jpeg\", \"pgf\", \"pdf\", \"png\", \"ps\", \"raw\", \"svg\", \"tif\"];\n",
       "\n",
       "mpl.default_extension = \"png\";/* global mpl */\n",
       "\n",
       "var comm_websocket_adapter = function (comm) {\n",
       "    // Create a \"websocket\"-like object which calls the given IPython comm\n",
       "    // object with the appropriate methods. Currently this is a non binary\n",
       "    // socket, so there is still some room for performance tuning.\n",
       "    var ws = {};\n",
       "\n",
       "    ws.binaryType = comm.kernel.ws.binaryType;\n",
       "    ws.readyState = comm.kernel.ws.readyState;\n",
       "    function updateReadyState(_event) {\n",
       "        if (comm.kernel.ws) {\n",
       "            ws.readyState = comm.kernel.ws.readyState;\n",
       "        } else {\n",
       "            ws.readyState = 3; // Closed state.\n",
       "        }\n",
       "    }\n",
       "    comm.kernel.ws.addEventListener('open', updateReadyState);\n",
       "    comm.kernel.ws.addEventListener('close', updateReadyState);\n",
       "    comm.kernel.ws.addEventListener('error', updateReadyState);\n",
       "\n",
       "    ws.close = function () {\n",
       "        comm.close();\n",
       "    };\n",
       "    ws.send = function (m) {\n",
       "        //console.log('sending', m);\n",
       "        comm.send(m);\n",
       "    };\n",
       "    // Register the callback with on_msg.\n",
       "    comm.on_msg(function (msg) {\n",
       "        //console.log('receiving', msg['content']['data'], msg);\n",
       "        var data = msg['content']['data'];\n",
       "        if (data['blob'] !== undefined) {\n",
       "            data = {\n",
       "                data: new Blob(msg['buffers'], { type: data['blob'] }),\n",
       "            };\n",
       "        }\n",
       "        // Pass the mpl event to the overridden (by mpl) onmessage function.\n",
       "        ws.onmessage(data);\n",
       "    });\n",
       "    return ws;\n",
       "};\n",
       "\n",
       "mpl.mpl_figure_comm = function (comm, msg) {\n",
       "    // This is the function which gets called when the mpl process\n",
       "    // starts-up an IPython Comm through the \"matplotlib\" channel.\n",
       "\n",
       "    var id = msg.content.data.id;\n",
       "    // Get hold of the div created by the display call when the Comm\n",
       "    // socket was opened in Python.\n",
       "    var element = document.getElementById(id);\n",
       "    var ws_proxy = comm_websocket_adapter(comm);\n",
       "\n",
       "    function ondownload(figure, _format) {\n",
       "        window.open(figure.canvas.toDataURL());\n",
       "    }\n",
       "\n",
       "    var fig = new mpl.figure(id, ws_proxy, ondownload, element);\n",
       "\n",
       "    // Call onopen now - mpl needs it, as it is assuming we've passed it a real\n",
       "    // web socket which is closed, not our websocket->open comm proxy.\n",
       "    ws_proxy.onopen();\n",
       "\n",
       "    fig.parent_element = element;\n",
       "    fig.cell_info = mpl.find_output_cell(\"<div id='\" + id + \"'></div>\");\n",
       "    if (!fig.cell_info) {\n",
       "        console.error('Failed to find cell for figure', id, fig);\n",
       "        return;\n",
       "    }\n",
       "    fig.cell_info[0].output_area.element.on(\n",
       "        'cleared',\n",
       "        { fig: fig },\n",
       "        fig._remove_fig_handler\n",
       "    );\n",
       "};\n",
       "\n",
       "mpl.figure.prototype.handle_close = function (fig, msg) {\n",
       "    var width = fig.canvas.width / fig.ratio;\n",
       "    fig.cell_info[0].output_area.element.off(\n",
       "        'cleared',\n",
       "        fig._remove_fig_handler\n",
       "    );\n",
       "    fig.resizeObserverInstance.unobserve(fig.canvas_div);\n",
       "\n",
       "    // Update the output cell to use the data from the current canvas.\n",
       "    fig.push_to_output();\n",
       "    var dataURL = fig.canvas.toDataURL();\n",
       "    // Re-enable the keyboard manager in IPython - without this line, in FF,\n",
       "    // the notebook keyboard shortcuts fail.\n",
       "    IPython.keyboard_manager.enable();\n",
       "    fig.parent_element.innerHTML =\n",
       "        '<img src=\"' + dataURL + '\" width=\"' + width + '\">';\n",
       "    fig.close_ws(fig, msg);\n",
       "};\n",
       "\n",
       "mpl.figure.prototype.close_ws = function (fig, msg) {\n",
       "    fig.send_message('closing', msg);\n",
       "    // fig.ws.close()\n",
       "};\n",
       "\n",
       "mpl.figure.prototype.push_to_output = function (_remove_interactive) {\n",
       "    // Turn the data on the canvas into data in the output cell.\n",
       "    var width = this.canvas.width / this.ratio;\n",
       "    var dataURL = this.canvas.toDataURL();\n",
       "    this.cell_info[1]['text/html'] =\n",
       "        '<img src=\"' + dataURL + '\" width=\"' + width + '\">';\n",
       "};\n",
       "\n",
       "mpl.figure.prototype.updated_canvas_event = function () {\n",
       "    // Tell IPython that the notebook contents must change.\n",
       "    IPython.notebook.set_dirty(true);\n",
       "    this.send_message('ack', {});\n",
       "    var fig = this;\n",
       "    // Wait a second, then push the new image to the DOM so\n",
       "    // that it is saved nicely (might be nice to debounce this).\n",
       "    setTimeout(function () {\n",
       "        fig.push_to_output();\n",
       "    }, 1000);\n",
       "};\n",
       "\n",
       "mpl.figure.prototype._init_toolbar = function () {\n",
       "    var fig = this;\n",
       "\n",
       "    var toolbar = document.createElement('div');\n",
       "    toolbar.classList = 'btn-toolbar';\n",
       "    this.root.appendChild(toolbar);\n",
       "\n",
       "    function on_click_closure(name) {\n",
       "        return function (_event) {\n",
       "            return fig.toolbar_button_onclick(name);\n",
       "        };\n",
       "    }\n",
       "\n",
       "    function on_mouseover_closure(tooltip) {\n",
       "        return function (event) {\n",
       "            if (!event.currentTarget.disabled) {\n",
       "                return fig.toolbar_button_onmouseover(tooltip);\n",
       "            }\n",
       "        };\n",
       "    }\n",
       "\n",
       "    fig.buttons = {};\n",
       "    var buttonGroup = document.createElement('div');\n",
       "    buttonGroup.classList = 'btn-group';\n",
       "    var button;\n",
       "    for (var toolbar_ind in mpl.toolbar_items) {\n",
       "        var name = mpl.toolbar_items[toolbar_ind][0];\n",
       "        var tooltip = mpl.toolbar_items[toolbar_ind][1];\n",
       "        var image = mpl.toolbar_items[toolbar_ind][2];\n",
       "        var method_name = mpl.toolbar_items[toolbar_ind][3];\n",
       "\n",
       "        if (!name) {\n",
       "            /* Instead of a spacer, we start a new button group. */\n",
       "            if (buttonGroup.hasChildNodes()) {\n",
       "                toolbar.appendChild(buttonGroup);\n",
       "            }\n",
       "            buttonGroup = document.createElement('div');\n",
       "            buttonGroup.classList = 'btn-group';\n",
       "            continue;\n",
       "        }\n",
       "\n",
       "        button = fig.buttons[name] = document.createElement('button');\n",
       "        button.classList = 'btn btn-default';\n",
       "        button.href = '#';\n",
       "        button.title = name;\n",
       "        button.innerHTML = '<i class=\"fa ' + image + ' fa-lg\"></i>';\n",
       "        button.addEventListener('click', on_click_closure(method_name));\n",
       "        button.addEventListener('mouseover', on_mouseover_closure(tooltip));\n",
       "        buttonGroup.appendChild(button);\n",
       "    }\n",
       "\n",
       "    if (buttonGroup.hasChildNodes()) {\n",
       "        toolbar.appendChild(buttonGroup);\n",
       "    }\n",
       "\n",
       "    // Add the status bar.\n",
       "    var status_bar = document.createElement('span');\n",
       "    status_bar.classList = 'mpl-message pull-right';\n",
       "    toolbar.appendChild(status_bar);\n",
       "    this.message = status_bar;\n",
       "\n",
       "    // Add the close button to the window.\n",
       "    var buttongrp = document.createElement('div');\n",
       "    buttongrp.classList = 'btn-group inline pull-right';\n",
       "    button = document.createElement('button');\n",
       "    button.classList = 'btn btn-mini btn-primary';\n",
       "    button.href = '#';\n",
       "    button.title = 'Stop Interaction';\n",
       "    button.innerHTML = '<i class=\"fa fa-power-off icon-remove icon-large\"></i>';\n",
       "    button.addEventListener('click', function (_evt) {\n",
       "        fig.handle_close(fig, {});\n",
       "    });\n",
       "    button.addEventListener(\n",
       "        'mouseover',\n",
       "        on_mouseover_closure('Stop Interaction')\n",
       "    );\n",
       "    buttongrp.appendChild(button);\n",
       "    var titlebar = this.root.querySelector('.ui-dialog-titlebar');\n",
       "    titlebar.insertBefore(buttongrp, titlebar.firstChild);\n",
       "};\n",
       "\n",
       "mpl.figure.prototype._remove_fig_handler = function (event) {\n",
       "    var fig = event.data.fig;\n",
       "    if (event.target !== this) {\n",
       "        // Ignore bubbled events from children.\n",
       "        return;\n",
       "    }\n",
       "    fig.close_ws(fig, {});\n",
       "};\n",
       "\n",
       "mpl.figure.prototype._root_extra_style = function (el) {\n",
       "    el.style.boxSizing = 'content-box'; // override notebook setting of border-box.\n",
       "};\n",
       "\n",
       "mpl.figure.prototype._canvas_extra_style = function (el) {\n",
       "    // this is important to make the div 'focusable\n",
       "    el.setAttribute('tabindex', 0);\n",
       "    // reach out to IPython and tell the keyboard manager to turn it's self\n",
       "    // off when our div gets focus\n",
       "\n",
       "    // location in version 3\n",
       "    if (IPython.notebook.keyboard_manager) {\n",
       "        IPython.notebook.keyboard_manager.register_events(el);\n",
       "    } else {\n",
       "        // location in version 2\n",
       "        IPython.keyboard_manager.register_events(el);\n",
       "    }\n",
       "};\n",
       "\n",
       "mpl.figure.prototype._key_event_extra = function (event, _name) {\n",
       "    // Check for shift+enter\n",
       "    if (event.shiftKey && event.which === 13) {\n",
       "        this.canvas_div.blur();\n",
       "        // select the cell after this one\n",
       "        var index = IPython.notebook.find_cell_index(this.cell_info[0]);\n",
       "        IPython.notebook.select(index + 1);\n",
       "    }\n",
       "};\n",
       "\n",
       "mpl.figure.prototype.handle_save = function (fig, _msg) {\n",
       "    fig.ondownload(fig, null);\n",
       "};\n",
       "\n",
       "mpl.find_output_cell = function (html_output) {\n",
       "    // Return the cell and output element which can be found *uniquely* in the notebook.\n",
       "    // Note - this is a bit hacky, but it is done because the \"notebook_saving.Notebook\"\n",
       "    // IPython event is triggered only after the cells have been serialised, which for\n",
       "    // our purposes (turning an active figure into a static one), is too late.\n",
       "    var cells = IPython.notebook.get_cells();\n",
       "    var ncells = cells.length;\n",
       "    for (var i = 0; i < ncells; i++) {\n",
       "        var cell = cells[i];\n",
       "        if (cell.cell_type === 'code') {\n",
       "            for (var j = 0; j < cell.output_area.outputs.length; j++) {\n",
       "                var data = cell.output_area.outputs[j];\n",
       "                if (data.data) {\n",
       "                    // IPython >= 3 moved mimebundle to data attribute of output\n",
       "                    data = data.data;\n",
       "                }\n",
       "                if (data['text/html'] === html_output) {\n",
       "                    return [cell, data, j];\n",
       "                }\n",
       "            }\n",
       "        }\n",
       "    }\n",
       "};\n",
       "\n",
       "// Register the function which deals with the matplotlib target/channel.\n",
       "// The kernel may be null if the page has been refreshed.\n",
       "if (IPython.notebook.kernel !== null) {\n",
       "    IPython.notebook.kernel.comm_manager.register_target(\n",
       "        'matplotlib',\n",
       "        mpl.mpl_figure_comm\n",
       "    );\n",
       "}\n"
      ],
      "text/plain": [
       "<IPython.core.display.Javascript object>"
      ]
     },
     "metadata": {},
     "output_type": "display_data"
    },
    {
     "data": {
      "text/html": [
       "<img src=\"data:image/png;base64,iVBORw0KGgoAAAANSUhEUgAAAbAAAAEgCAYAAADVKCZpAAAgAElEQVR4Xu2dCbxd0/3FdxASIjHPnmeIIWapeXpi1hqrVUr7TFEELapmzxiqlOKvWkNQQw01z0IMoSRBkCCGJCSGiMQsc/7re3MO1+1999177vze2p/P+pw77N/e+6y9z157Ont3CnZmwAyYATNgBuqQgU51mGYn2QyYATNgBsxAsIC5EJgBM2AGzEBdMmABq8tsc6LNgBkwA2bAAuYyYAbMgBkwA3XJgAWsLrPNiTYDZsAMmAELmMuAGTADZsAM1CUDFrC6zDYn2gyYATNgBixgLgNmwAyYATNQlwxYwOoy25xoM2AGzIAZsIC5DJgBM2AGzEBdMmABq8tsc6LNgBkwA2bAAuYyYAbMgBkwA3XJgAWsLrPNiTYDZsAMmAELmMuAGTADZsAM1CUDFrC6zDYn2gyYATNgBixgLgNmwAyYATNQlwxYwOoy25xoM2AGzIAZsIC5DJgBM2AGzEBdMpBNwPjtWmEP4W1howrfWYviW0XYv8LxFhtdkwL4l7BcFNAIXY8UBhUY8Jbyf7WwWoF2bXlvlIfRQmdhRluey/j/bIXdU3injHEUE/RDMr5VuL6YQGrUdk+l62/CwgLl7OUaTWctJutrJWod4b08EperjDfL/hBhizzCsZc2GMgmYBTsWwQq0G+qwGCL4mwPApYvdZWq0BuVIAtYvrnStr9K5VvbKcnfx7vyeqxwT/4m9pmAgfYsYKeLjzOF7YXHI27m0/VKYW/hW+HPwsVpvG2rz1cIDcILQrMwNk/bnPRnEzB6Pr8TkrQQ5pFdsa37FoVRCwI2t9Ixs4DC2yS/6T2wfE0rVRE2KkEWsHxzpW1/lcq3tlOSvw+ezdWFWu395n8nte2zUgJWivq2ECZXlue7hUWF3wixgPWP9GI3XZcSnhSahYeFxQQaTvQ67xPOFugkbRJFnMu2zbRlCtjBskApGWb6TrhIOEM4VPiTsIjwrIDAfRiFTmb1E34vQOiKWWIlsShyLwHlPUYYFPnD/wBhA+G/wlvCQkI8hAhR3HQ34RKBNEIG5M0lnCCQPmwGCqRtUpY0NOk3BOb/BFqhDAmcItwU+SUN3PMKwtbC7sJI4TJhq8j/X3VlCAbXVaDVgb+PhOsE7iseQhyjz3E6EUP4I+1LCKMEhmiJm8yk1QKP/P+JkC6Ea0TxrKfreOEk4d4oDQN0pZfcKJBG0rufQIHJdPhBwA4TWgTynvz9S+SRoeJLBeKDhzsFeJoW+SX/fi10EcjDfYXXBVpf5wq/jD7fpesfojAI+o9RONzfqcI1QmtDiMvov78LNJ7IwwuEf0bpa9GV8jNFYCjsfeG3wtDo/8wLFTV511v4VDhNuE3gIRwibCe8JBDncOEXwqAI8M8wLg0p0gv30wXK1z7C00Jmvj2q324UNhZ4DgYLlMVxUcII+xmhj8BQ1PMCeTUx+p97puXKPX4lkN4BQlv8RuapC8/DyQLPA+WTCuQoAc4+ExYQKGsfC/CQ6dbUDzxjcMb9Uh7Oi9JAXpDHOHikPE8VmgT44rk4XqDRd7hAuSEsKjDKGOHgWgTiwZZnZ4zw8wiUG37nOYBPXCnLBGWQtB0nLC7w/FF38TvuIIHySiX8otBXiHsK6aJEBT5AoJ6gvnpEaBLiRn+ueJrlj/xh+PYAgbqDqQbKFq6t+11LfshPxILnk3Kay43Rn5cL1KPUbZQJnhvCKNRhSz5Th8Z1G2GgBc1CnGfU1zzjvxLgkP82iyKjDFLm1xfebMO2rfQNyNYDI7L0MVoeOArsDgLzOhTGdQUqTByZhZjwYFPxgXS3rL68KpBZEEB3kjkGKhgqFh5kQMXMw/+AwBAHAsbDTEHaKbryECASO0dx8pmKlK4rYUFu9+i3jGSkChjpxA9xIaoPCggnhXCAQMW4S5QeKmoqHNJyvoAwYc8DQIHlt80FHkIyhbkTRDSbgPFQUIBIJ+JFBUbFRqWS2Vpr0m+xgNGQeENgThLeeUBIz0+EOM276jN8UBkzb4NYUnAyXaN+QMDgnvxdSXhCgD/ui0qL+BAE7oH7uUqgEtpRgHvy7guBvPtc4OFD1KkMmwUqvZsFhA2OyTfShB1xI0bE15qAIQzY8mASx2MC5Yp0tggnCnsJ8H+OsI0Qt+T08XtHfvBwMNyBqKwdhRWLPBUIlSU8IrivCVS+uEFCLGAMpZMeWonzRv5pwOEy841KrUmAN/KAPINPGipxuMvrA3n1QeSPBhv3RMVCPDzsdwiUYfy+IuTiNwr6+wsVMALGszpBuEGggcOzh8vVM1hQ/1M2KWdxI5bnjyGfs6IwqTQJgzJIhYvINgmUH/zAU7NAWSHvaCwxbESZIizKQIvAPfPcEAY8xfO+CDj23EPcEC5VmVCQqbRTv1C3wPEwIa6XSA8NOp4n5v5JI3VBXPGmc8czhIPvRoHyiNClC1hr8XB/iA51AsJCef5HdL802tq6XxrdNLZoxNK4yaxvo6R9fxmjT5QFyiGiRcOKhgkNRfKGurk1d4T+4HnGESe8xY2OWMCYTyXdiD6Nbxz1HB0fnjvi4tmh3owdZZ3/ea5z2eZIWuqvvASMFigVLT0dHD2hyQKV0BiBjKWCIjHZHC01Wg3xQ4QfMhxi6GoyKdpDiOfb+H2WAFlUQPQIqPRw8wtUnBQsHhoqd1pQcetlaX2mZU7rM3MosymySY8LYabyosUwQKAFi9DgENPbBTI5dlTKqwoHCqSbDEaUcVQ+pDebgCE28Jdt7iGXgPFgkwZaZXCCo1IlvBZhgMB9Uphw8EJPico/0zXqByoQ+KRyx1FhUPHS4s109KhpYSLqNGIo8HBDgyJOCw2geHI77vVtqt/IQyogKiceHioDHNyR9mwCRoU9RqARQA8ER4VInjYLLQIVBD0nHBUiFRB5nekQPcoF/MUOMaalyPg9jgqANML/hgItf9wgIRYwBICHnso57knF4eUSA/zQa6N884DH4VJmEV4cZQdBQOQpV/SA4TrdtcVvhvfUc0DPmRYyjnlsKov4eciVZp4xyigt40xH3tKTo8GHo0EDn41Ck4BoUy/Q+0IIvxRoWCB+OPKJZ4zhpxaBhh9zKDgEgzLNc5luD2+ENUYoRZkgLu6fMhE3Qnj+afjRGOUeaDxQ3+GoCyjbPC+IU8wdzxBlgjqNsowjT5uEdAFrLZ5m+UPgadjHPT+eKUYLBgljhFz3y7MYdx6i6HNeCI+RD8o0jmce8WZ0IF9HPsATeUZ4IBYwntu4zo17dfijsdoowCedi7gOIE5ElP8pr7ls20pfXgJGxt4v0CqLHUMQdPtJCJlAxUSrJZvjYaKlkt5lpWVKgR4kMC5Kdz52VFqQgoBRafIwxOKJH1r9iCGVAcMhVOBxhcr/9JzoETDclu6a9AUxSI/rQn3nwaN1MCCyoYWDY7iEiphCHDta1vTKEAruh14LvVIcDzWZlU3ASCcVFJVJpsslYFTE9AyoYGPHw4bo0IsYIFCxUkBxTULce8uMp1E/8PBxv3FjgaGLnwn0CshDxI9eCQ0FhsGoeGIROFqfGXqgt/AfgXTBNa0uemWxo9KFJ+JB3MnfuOzQYoS3bAJGg4Fylp4/PGSUMx6IFoEhPcoFrlHgfihLmY0VyguVCrzHjvuhNxa3BKk4ETEaHvEwJX4HCbGA0aqknP5UoNFGCx1RxmXmG5zRW0KQYtHiwSdeKub0cLFvFuKRDp4R0hr3AqMoUsPNufiN/cVXGnSEQesfR/7QQqdM8jzkEjA4o4zSes50hEG5iMs6DSRa7rSsm4T0Msf90hOncTAmCgjB4FnGX4uQno80SOiRNEZ+Y3vqACr5UpUJgs+8/wH6LX5+GH6nsZpeliivNM6fS7OlPqAOiodjCZeeJnVSuoCll/H0eJrlj+cu/ZmmXqKXOiiP+yVchvLzdWPkMRYbbFqEdP7zCYdyzzNOQw6XHmbcA1tSv9NYxfHMEk/cA+MZpcEWOzoN/B/3wFqzbStteQlYZg+MjKMXlN4Da21IiATQumS4igo301EZ0rpL7xXdpO8UNCoqupm0IpkrwNGShMi4B0YLCHFESNtyTfKA6KXH9W99R1TiHli6GNCToAXOvWVzVJ5UhnEPjPsjveXugSGqDPW0CAOEQgUsvQfGvAZzFPTAaA0xLk8PhR4QPTAqs/ihjDmgUqXlipBzvzzQcJTZYMD/dQIVcNz6wh9pz7cHRkuV3mdzdL/5Chi9CcpF3MqP0x5fEVfmveghId48aPG86SB9jgUs3Q4eKD+0vN8RMitDhtOo7Bi+pYFHDww+Y4HNDJd7igWstR5Y3Atojd/M+8rsgdEoQXTy7YExrMWQeqbL7IExRMmwV6PQFPEVl/tSChiNoTFCeo8kaZngnnIJGKNCPO/UP9lcZg+MeTzKMo7GEjzkK2CZPTB6qgwnDirwfltJ6o9+hr/WBAzBRrhbcwgzfDCUTf7G4k4jk3qY+gMwskHjlmFjHEJH2eNZoIHIf/S6cegHPTLKGSNBuWxbT9mcf/ISMFpIdPGpDGjh0QWl59FaZmVGSkuKSXNuggqAB5rhBSoBKl/mAWihMe5NC5BhClrGCBiFhP/p3dBCQWiYH4nnwJjHYEyWsOnmQyxj1tmG6pqi+JnTIS5a/IgP9wKRA6L0xL0ZehGkG5Fj3oxJaSp/KgN+J+O4D8aWyRTSzSKXbAJGxUALjZYJ902FSYXP0CyVHUNz8QRokz7HLVpauKSNyoJWEIWAHg2tt2xpTreVlx+5Rn1DdBFAxJYWMhU4PBM3wxi0duGYRgMcUtDIZ+KjMmUYgTQxTMVDh4Axxs0wH0N2tMBoNVPJUyGQT4gYwx5jBO6D1mNrDR5EEWGhF8EDwAOBf8pNi5CvgNHzoWFCXsbzFQgKYksZplGGiNHDJU1UkPEChUH6HAsY4/7PC5RTyiJlkCvDx5n5xnNBvjIMSG+MOCgb+QgYFQlCQ0OC3i2NLJ4bKo5c/OrvHzkqKobsERjyboBAjzfutebqgcVzYJTrKwXyOZ4Do4ImD3nWCIOhwEEC/DYJcXklMaUUMHgvVZkgbbkEjHyj7FMmyAvyAB7pHWXaUifQq4Zv8o7nh6GwfAWMHicLSeh5U0YoKzyP1AeF3C/pgn+e42zrGfh/TJROniFci1BoD4wRH8px7Kj/qIcZneOZYlSIBj/3Qm+K9DDNQv1KnUydR4OSkQEayFsL1J24XLb8T54x1z0oLf74Y14ChmeGcqiE6S7SneY7hSuOIFcPDD+IRfyAk/FUlvReyHR6Z0z0M/ZOZUGvigolfuia9RlFRyQQH+JG2cloKlV6CrQUaKlTgVK4EKhM16QfeNB4OBE+hmwYLmRYCTdASO/N8BthIhwQyHACaeOhpTBQSTEswjwGrQgq6lyrEGllU0HR40F8eGCIj/tBCBBGWivcQ3qFQIVJQacCRvRIMwsPcAOiMGLRbcqwjbylLo0CAgZXLQLcMWRIvuAYV6cyR4DpOVAIqbR4KOlZMDxGXlEhIk6EQ+FlmIq5P/KEeyONcByv1qT3RR4xzEs6eVhbKy/EDac0QhiyY4iX77gWIV8Bwz8izP3RKOJeEUYeOnr98Bn3uhAyhII8oLU5SIgFDG4QUCozepJU7nCEy8w3GmE0DhhqozxQbkh7PgJGeAzVsoCCRhKtW7jiuWiL3yg5qQv3iR0NFOzIJ+au4BKXS8D4n4YHgknrmDlBnjcqGMKCCwQdR6XOkCNloUkop4CVskzkEjDui0Ym90UZIQ9oQFHxZnJHpTxAIM+oExgKI995TjL98h2/cd3SrM/kT7wKkXJF4y9uwBZyv3GaKYtxDydKwveXMfrUWg8s02++3zPDpG7kmWfEhuFmnpP098DoBNHDhFcavnBAGLhctjTiaEzE4p6ZvqwClu9NVMMflU08fEllXIhrkuf0B60QW/s1A2bADLTGABU286WMBFXa0ZujQUFjpb25eBSOxn82VxcCxmQ7Y/t0kWnV0pujhUhrqhDXJM8WsEIYs18zYAayMcAiFoZYWYzA8DrTB/RyGFq1qxwDdSFgtDDomiJgzEGwmiVevloIVRawQtiyXzNgBlpjANFiXQBTDAwBMqzMUGuhjWozXBwDdSFgxd2irc2AGTADZqBdMtDaypV2ebO+KTNgBsyAGWg/DFjA2k9e+k7MgBkwAx2KgXYrYIsuuujsxsbGDpWZvlkzYAbMQHgrWiKwGm+SFO6GDRvGZrvpO+IUHkiFLNqtgPXu3Xv20KGs+bAzA2bADHQgBpqa5tzsoEGJbrpTp05sIcd7bTXvLGA1n0VOoBkwA2agAAYsYAWQVaNe3QOr0YxxssyAGSgvAxaw8vJbidAtYJVg2XGYATNQcwxYwGouSwpOkAWsYMpsYAbMQHtgwAJW/7loAav/PPQdmAEzkIABC1hBpMW7jucy4lDKeMf0ggJP6tkClpQ525kBM1DXDFjACso+zuHiOI1cjiM1OCaiYi6pgL0z4esweuI3YfteHGtjZwbMgBmoMwYsYAVlGGc9cW5QLpePn4IibctzUgHr/9Ab4dpnR4dR5+wc9D5EW9H4fzNgBsxAbTFgAUuUH5zayYmiNeGSCth1g0eHM+8bGV46bfuwyAKcmGBnBsyAGagjBixgiTLrbVlxsi0nE3PUdFWPFkgqYA++9lE44qaXwoNHbxl6LdM9ERE2MgNmwAxUjQELWCLqGW/j6GiO4Oa8nNuEAcKoRKEVaZRUwIaNnRx+fuVz4boDNwzbrLZEkamwuRkwA2agwgxYwIomfBuFwOnHCwjDBRZxPF90qAUEkFTAxk3+NmxxwZPhgp+vHfbZsKGAGO3VDJgBM1ADDFjAEmUCc2D7CwcInFJ6jXCvsJ5wu7BiolATGiUVsGkzZoVVT30o/GG7VcMx2/VMGLvNzIAZMANVYsACloh4hgpvFJgDG5cRwp/0/YIcoe6k/y4V5hauFjieO93RFbpeWCjyQ4/uwVypTCpghNn77MfCjmstFc7bc+1ERNjIDJgBM1A1BixgiahnDizJwg1EC/HbPhK+IbruK4xMS8U/9Pll4UqhVyRejeUSsJ0vfSYs06NLuKaZqTw7M2AGzEAdMWABq2hmbarYWoQdo1hPiq7901JxlT6/J9CLw/9FwmblErADr3sxfPr11HD/UVtWlAhHZgbMgBkomgELWNEUFhLA3vLMEOIhkRFzaBsL/dICWVqfHxUWFlgYwmpHDl1r1RUzhHjina+GgW9OCENOIRo7M2AGzEAdMWABq2hm5SNgxypFDFHS86IHxgKRtYRZGSntq+8gNDQ09B47ll2uCncXPzYqXPbE26ndODrPPVfhAdjCDJgBM1AtBixgiZmnF3WH8HkBIeQzhDhC4dFL+yAKl+HETYQJrcVTTA/s5hfeDyff9Vp4/qQ+YekeXQu4FXs1A2bADFSZAQtY4gzYS5Z7CL8pIIR55JdFHNsK4wUWcewnIFqxY2ePfwsDBDYFHigsK7S6aKQYARv4xifh4OuHhruO2Cys38CopZ0ZMANmoE4YsIAlzqjVZHl3JDKFBLKLPLMhMCsSrxXOFc4Shgq8S8bKw38K3SLROkFX5sRadcUI2Ovjvwg/u+zZ8Pf9e4edtJzezgyYATNQNwxYwBJn1cmynF+o6Nlf2VJbjIB9+tXUsOG5j4ezdl8z/GbTxsRk2NAMmAEzUHEGLGCJKWdlIEOBhcyBJY6sXD2wWbNmp3bj6LvVSuGEnVYvS/ocqBkwA2agLAxYwBLT+oQs9xS+SBxCiQyL6YGRhM36DwybrrxYuOiX65YoRQ7GDJgBM1ABBixgiUlmN42fCOkvIScOrBjDYgVsjysGh27zzRP+dQivpNmZATNgBuqEAQtYnWRUjmQWK2CH3Tg0vPfpN+GxY7eufzJ8B2bADHQcBixg9Z/XxQrYGfe8Hu56eXx4tSXe4ar+OfEdmAEz0AEYsIDVfyYXK2BXPPlOuPCRt8IbZ+0Uus7L6n47M2AGzEAdMGABq4NMaiOJxQrYncPGheNuHx4GHd8UGhdj+0U7M2AGzEAdMGABS5RJB8uKPQpjR7eF98HOTBRakUbFCtizb08M+1/zQri17yZhk5U4q9PODJgBM1AHDFjAEmXSzbLiwEmEbBFhgPCUcHyi0Io0KlbA3v7kq7D9X58Ol/5qvbD7euxaZWcGzIAZqAMGLGCJM2kfWV4hfCOwn+HgxCEVaVisgH05ZXpYp+XRcMoua4RD9UKznRkwA2agLhiwgCXKpp6yul54TWDDXU5U5hiUbxOFVqRRsQI2e/bs0Ov0R8J+GzeE037GVox2ZsAMmIE6YMACliiT3pTVkQI7xXN2F+J1kLBmotCKNCpWwIh+m78MCmsu0z1cvt8GRabG5mbADJiBCjFgAUtEdHdZfZlhuaq+c1RKxV0pBGyfq54P6oiF237HkWV2ZsAMmIE6YMACVgeZ1EYSSyFgR9/ycnjlg8/D0ydsU/+E+A7MgBnoGAxYwOo/n0shYOc9+Ea4/rkx4c2zdwqdOjEqamcGzIAZqHEGLGA1nkF5JK8UAnbts6PDWfePDENP3S4s1m2+PGK1FzNgBsxAlRmwgFU5A0oQfSkEbNBbE0LzdUPCbYdtGjZakVfb7MyAGTADNc6ABaygDBot31rq0Kpj7I3/LxH+1oqvnfT7pQK7d1wtnJ/h76/6Hk9EceLzEgIvTbfqSiFgH0z6Nmz55yfDeXuunVpOb2cGzIAZqHkGLGAVzSJEi5WKnCU2Thgi7CvwHlk2d5R+XF9giX5ZBYyTmdc845Gw70YN4fRd/S5YRUuFIzMDZiAZAxawZLwltGKNeosQn1tyUhROa4diPqf/zxAeK7eAEf5P//ZMWFTzXzcctFHC27OZGTADZqCCDFjAKkh2CHsrNoYQD4liPUBXjkHulyUVK+i3/wrLCTMrIWDH3PpyGDpmchh8Yp+KkuLIzIAZMAOJGLCAJaItqVEhAvanSLwYRszm+upHEBoaGnqPHTs2aZq+t7ts4NvhosdGhRFn7hgWmG+eosNzAGbADJiBsjJgASuYXuaxLhCS7DxfyBDiy4qD7aoYRszpSrGIgwgeeu2jcPhNL4X7j9oirLVsj7ai9f9mwAyYgeoyYAFLxD9De5sksKRbwyKObYXxAos42Ml+REZYq+v7w8KKQq5VjymzUgnYKB2rsoOOVblkn/XCHuv7WJUE+WsTM2AGKsmABSwR21fKihr+doHjVGL3nzxC20V+WGZPT+5a4VzhLGGocG9k36JrF+HEPMIrmYBNmzErrHH6w+HwrVcOx++4Wj5R248ZMANmoHoMWMAScX9dFit6SjmXuyeKKQ+jUvXAiKqPdqVfdckFw98P6J1HzPZiBsyAGagiAxawKpJfoqhLKWCH3jA0jJ74TXj82K1LlDoHYwbMgBkoEwMWsETEsrT9MmHzyPoZXY8ReDm54q6UAnbBw2+Gfz79XnhDm/p2nnuuit+LIzQDZsAM5M2ABSxvqtI98mLxzcKN0Y/76/prgR02Ku5KKWB3DhsXjrt9eBh43NZh5cW7VfxeHKEZMANmIG8GLGB5U5Xu8RV9WS/DMttviQIv1KiUAjZcZ4LtfsXgcJXmwHZcc6lCk2L/ZsAMmIHKMWABS8T1QFmxkOOWyJr9DA8UWB5fcVdKAftqyvSwdsuj4Y9ahXjkNqtU/F4coRkwA2YgbwYsYHlTle6RbZ6YA+PFZNxg4Wjh/UShFWlUSgEjKZucNzBstvKi4WK9D2ZnBsyAGahZBixgNZs1eSes1AK2/9UvhC/VE7u33xZ5p8EezYAZMAMVZ8AClojylWTFmV7sxsH7X88LfxDeSxRakUalFrCWe0eE24d+EF7XnoidOnHEmZ0ZMANmoAYZsIAlyhS2krpCiOfAfqXPbLrLzvIVd6UWsBv/Ozacdvfr4fmT+oSle3St+P04QjNgBsxAXgxYwPKiKdPTq/phnYwfh+v7uolCK9Ko1AL2/LufhX3/+d9w48EbhS17Ll5k6mxuBsyAGSgTAxawgohdJPLNUSeThVsFhhD3ERYW4gMqCwq0WM+lFrAJX00JG507MJyhk5kP3Jz9hO3MgBkwAzXIgAWsoEwZHQlWtokhhIy5sYq7UgvY7Nmzw7pnPhp2XXeZcO6ea1f8fhyhGTADZiAvBixgedFU055KLWDc7F7/Nzi1ldS/D4vfFKhpCpw4M2AGOiIDFrDEub6ZLBuF9KOLb0gcWhGG5RCwE+7QdlJvTAjDTqvK7lhFsGFTM2AGOgwDFrBEWc0eiCsLbB81MwqBIUReZq64K4eAXTd4dDjzvpHhxZO3DUt052gyOzNgBsxAjTFgAUuUIW/IqpfQ5mnJiUIv0KgcAvbi6Enhl1c9H65r3jBss/oSBabI3s2AGTADFWDAApaIZE5iprf1USLrEhuVQ8DiPRGP32HV0K9PzxKn2MGZATNgBkrAgAWsIBLvi3pdC+rKRoEvClPTQtgtj9B2kh928ZhbuFo4P4vNL/VbSxQX75ftlyvccggY8TVd+GRYY+nu4cr9fTpzHvlqL2bADFSaAQtYQYy3dUzxU22EhmiNElgZweGXQwR2sh+ZZkd35zahj8C7ZozfTaiGgB1500vhtfFfhKdP2KYgkuzZDJgBM1ARBixgFaE5joQ16S3CjtEP8YvP/dNS8edI5Oid5eXK1QO74sl3woWPvBVebdkhdO/SOa+02JMZMANmoGIMWMASUf2VrDIXcHyh34YKxwmtbeq7t/5jCPGQKNYDdGX/xH5pqbg7ErDNdaXHhuA9nCuV5RKwJ9+aEA68bki4te8mYZOVFk1ElI3MgBkwA2VjwAKWiNqzZcUQ4M0Cu3KwmS/L6l8SDheaWgk1HwG7X7bTBebBlhOeFtgO4/OMMPvqOwgNDQ29x44dm+hGchnFW0qd9rNe4eAtvKVUyQl2gGbADBTHgAUsEX/ZNu7lnTAWduTa1DefIcS/K4wXBE58xnH68199qaUAACAASURBVIkC82VZXbl6YES24bmPa0PfxcLFv/ThlolKio3MgBkoHwMWsETccv7XX4U7Imt6VscKnA8WC1m2gNm1g0Uc2wrjI1FiheGINM8MMbKw47fCYsLLAurxWTUErPm6F8PHX0wJD/9+q0RE2cgMmAEzUDYGLGCJqI0PtKRHxVwY54NxoCWixJrzZ3OEuov+u0Rgfuta4VzhLIH5s3sFhiQvEhAydvngf3a9b9WVswd24SNvhr8/9V4YocMtu3QmyXZmwAyYgRphwAJWIxlRRDLKKWAPvvZROELL6e/tt3lYZ7mFikilTc2AGTADJWbAAlYQoSfIN8vcLxOybSPVbvZCjFkZ+9k3YesLB4X+e60d9t2ooSCy7NkMmAEzUFYGLGAF0burfLMbB/NT2dz1BYVWIs/l7IHNmjXnbLDd118mnLOHzwYrUZY5GDNgBkrBgAWsKBbnl/W3RYVQAuNyChjJY1Pf6TNnhbuO4NU0OzNgBsxAjTBgAUuUESzeuEboJjCutq5wmHBEotCKNCq3gJ1534hw64sfhNe1kGPuubIdRl3kDdjcDJgBM5CEAQtYEtZS72mxdJ5Vg+tHIbyu61qJQivSqNwCdsewceH424eHx4/dKqyyBPsY25kBM2AGaoABC1iiTEDA2AKKd7RiAcv1AnOiSPI1KreAvfHRl2HnS58Jl/5qvbD7esvmmyz7MwNmwAyUlwELWCJ+eYH5YuHySMiO0fUnAltKVdyVW8CY/1rzjEdC82aN4eRd1qj4/TlCM2AGzEBWBixgiQoGO2Rwptd2ApNCjwqIWKu7ZSSKJU+jcgsYydj1smdD967zhJsOYbMROzNgBsxADTBgAauBTCgyCZUQsBPvfDU8POLj8PJp24dOnbyQo8gss7kZMAOlYMAClojFxWV1qNAosL9h7A5KFFqRRpUQsBufHxNOu2dEGHxin7DsQl2LTLHNzYAZMAMlYMAClojE52T1jDBMYL/C2N2ZKLQijSohYMPGTg4/v/K58I8Deocd1lyqyBTb3AyYATNQAgYsYIlIzLXjfKIAizGqhIB9O21GaiHH0X16hj9sv2oxybWtGTADZqA0DFjAEvF4jqzohT2YyLrERpUQMJK87UWDwoqLdQtX/5YFl3ZmwAyYgSozYAFLlAFfyWoBYarA6cmsamBz3+6JQivSqFICdvQtL4ehYyaF507iODM7M2AGzECVGbCAVTkDShB9pQTsqqfeDf0fejO1EnHhBeYtQcodhBkwA2agCAYsYEWQVyOmlRKwZ9+eGPa/5oXwr4M3Dlv05FU4OzNgBsxAFRmwgFWR/BJFXSkBm/zNtLD+2Y+Fk3ZePRy29colSr2DMQNmwAwkZMAClpC45GY7yZRdPOYWrhbOzwiqWd8vFMZHv7NdFf5adZUSMBKwWf+B4SeNi4S/7RtvAZmcCFuaATNgBopiwAKWmD4EaEkh/UXm99sIDZtRwvbCOGGIsK8wMs0OAWOZX798U1ZJATvk+qFh9MSvw8DjmvJNnv2ZATNgBsrDgAUsEa9HyeoM4RNhVhQCqxDXaSM0zhFrEXaM/J0UXfvXi4D99bFR4W9PvB1eb9kxLDBfunYn4tFGZsAMmIHkDFjAEnH3jqw4TqXQzXs5Q4whxEOiWA+IwknvbTXrNwTtU4He2h+ED3KlspI9sOfenRj2++cL4cpfbxB2XnvpROTZyAyYATNQEgYsYIlofFJWDAPOKNA6HwFbVGF+LfCOGac87yP0yRJPX/0GQkNDQ++xY8cWmJRk3mfoaJUNz308bNlzcc+DJaPQVmbADJSKAQtYIiavkdVqwgOR0MSBcEZYLpfPEGK6PXNmk4QeuQKtZA+MdPzpjlfDA699FIadtl2Ybx6SaGcGzIAZqAIDFrBEpDP/lc2d2UZoTBoxLMhWFqwyZBHHfsKINDvG5T6Kvu+JXgg5D+GqtIA9+daEcOB1Q8I12lJq2zVYx2JnBsyAGagCAxawokjvFlkz5Jev20UeLxHoulwrnCucJQwV7hWY/9pNYHiS3tfhwpu5Aq+0gE2bMSv0PuexsKN2pf/LL9bN977tzwyYATNQWgYsYIn4XEtWNwqLRNYTdf2NkN6TShRwEqNKCxhp/MO/XwlPvDkhDD11u9B57rmSJNs2ZsAMmIHiGLCAJeKPnehPEVjMgWsSzhM2SxRakUbVELBHdDrzYTcO87ZSReadzc2AGSiCAQtYIvKGyypz7Czbb4kCL9SoGgI2ZfrMsP5Zj4W9Nlg2nLvn2oUm2f7NgBkwA8UzYAFLxOFdsnpJYBgRt7/QW2DRRcVdNQSMmzzipmHhxdGTwwsnbxvmnosTZezMgBkwAxVkwAKWiOyFZcWKwy0i62d0bREmJwqtSKNqCdi9wz8MnBF222Gbho1WjKcDi7wZm5sBM2AG8mXAApYvU7Xrr1oC9vXUGWED7U7/640bwhm7rlm7BDllZsAMtE8GLGCJ8pXNdk8WGoX0DQHb2gsxUWRtGVVLwEjXIdcPCSM//DIMPrFP6NTJw4ht5ZX/NwNmoIQMWMASkfmWrP4ovCbEm/kSUGX2c8pIcjUF7I5h48Lxtw8Pdx+5eVhv+YUSkWkjM2AGzEAiBixgiWh7Vlbx/FeiAEppVE0B++Lb6amXmg/eckUddLlGKW/LYZkBM2AGcjNgAUtUQtgKinO8Bgpsuhu7/yQKrUijagoYST/gmhfC+5O+DYOOb/IwYpF5aXMzYAYKYMACVgBZP3j9lz6uLrDzRvp5YAclCq1Io2oL2M0vvB9Ovuu18ODRW4Zey3Qv8m5sbgbMgBnIkwELWJ5E/dgbc2DsRl8TrtoCNvHrqWEjHbHSb5tVwrE71AwtNZE3ToQZMANlZMAClojc62R1oTAykXWJjaotYNzOPlc9HyZ9My08duzWJb47B2cGzIAZaIUBC1iiovGGrFYWRgvMgbF+fLbQ4ZbRx+wNGDw6tNw3MjwuAVtliXiT/kTc2sgMmAEzkB8DFrD8eMrwtUIrVh1uGX3Mw0dffBc27f9EOH6HVUO/Pj0TkWojM2AGzEBBDFjACqIr3TPbSS0vpL/IzP6IFXe1MITITe9xxeAwfeas8IAWc9iZATNgBsrOgAUsEcVny6pZeFdg6BDHtU+i0Io0qhUBu+qpd0P/h94Mz5ywTVh+kfmLvCubmwEzYAbaYMAClqiIsAqRM0SmJbIusVGtCNj7n30btrrwyXDKLmuEQ7daqcR36eDMgBkwAxkMWMASFYk7ZXW4MCGRdYmNakXAuK1dLn0mdOk8V/jPEZuX+C4dnBkwA2bAAlaKMsBmvvcIrwvpO3HslkfgO8nPpcLcwtXC+a3Y/Fy/3yFsKAzNFW4tCdhlA98OFz02Kvz3pG3DUj265EGHvZgBM2AGEjLgHlgi4tiB4yohczPfp9oIDdEaJWwvjBOGCGxJlfk+2YL67QFhXqFfPQnYOxO+Cttd/HRo2bVXaN58xUTk2sgMmAEzkBcDFrC8aMr0hPDQMyrUbSqDFmHHyPCk6No/I6BL9P0xgR3vj68nAeM+drrk6dTtPHTMlt4bsdASYv9mwAzkz4AFLH+u0nxerM8MHd4bXeO/2lpGvzf1u3BIZHCArhsL9LJit4E+nCIwhDioHgXstqEfhBPueDXcePBGYcueiyci2EZmwAyYgTYZsIC1SVE2D09m+TGfZfRtCdhcCvcJoVkY04aA9dX/IDQ0NPQeO7Yq71BnJW/qjJlhiwueDGss3T3ccNBGiQi2kRkwA2agTQYsYG1SVEoPbQ0h9lBkvFv2dRTpUrpOElgc0upCjlpaxBGTdfkTb4e/PDoqPPL7rcJqSzGlZ2cGzIAZKDEDFrBEhCI0ZwhbRdYs3jhL+KKN0Ni1g0UcnCc2XmAubT+BRSHZ3CD9WHdzYNzIZG3su+n5A8Ou6ywTLvzFuolItpEZMANmICcDFrBEBYT3wFhCf31kzVwWtfReeYS2i/ywSIMVidcK5wqIHz0s5tTSXd0KGDdx2t2vh38P+SA8e+I2YYkFvaQ+j7JhL2bADBTCgAWsELa+9/uKPq2XYZntt0SBF2pUi0OI3MPoid+EPhcNSp0TdpzPCSs0W+3fDJiBthiwgLXFUNb/n9evLHF/NvqXbSf+IjDHVXFXqwIGEYfeMDQMHTMpPHfitqHrvHQ67cyAGTADJWLAApaISHpfDB8yF4abLDQLwxOFVqRRLQvYi6MnhV/qsMuz91grHLBJa6fQFEmAzc2AGeiYDFjAisr37pH1l0WFUqRxLQvY7NmzU8esfDllRhiowy7nmouzP+3MgBkwAyVgwAKWiMTzZPVn4fPImrPBjhNOTRRakUa1LGDc2r3DPwxH3/Jy+OdvfhK277VkkXdrczNgBsxAxIAFLFFReFlW62dYsgsHu2hU3NW6gM3QIZdbXzgoLLtw13DbYVWZJqx4njhCM2AGKsCABSwRya/Kir0Q453ou+ozy+DXTBRakUa1LmDc3tXPvBfOeeCNcG+/zcM6yy1U5B3b3AyYATMgBixgiYrBn2S1q3BdZH2grrzDxbBixV09CNhXU6aHTfs/EbZZfYlw2b6ZndeKU+YIzYAZaA8MWMAS5yKb8m4XWbNz/COJQyrSsB4EjFs85/6R4brnxoSnT9gmLLsQnVY7M2AGzEARDFjAiiCvRkzrRcDGf/5d2OrPT4aDNm8Mp/y0V42w52SYATNQtwxYwOo2675PeL0IGAk+SqsRB705ITx3Up+wYJfO9U++78AMmIHqMWABqx73pYq5ngTs1XGfh90uHxxO/eka4ZAtVyoVBQ7HDJiBjsiABazoXOcdsOUFViZWxdWTgEEQO3OMn/xdeOqPTWGeuTkCzc4MmAEzkIABC1gC0uaclMwZXRyPMkyYIAwWjk0UWpFG9SZgj474OPS9cVj4m1Yj7rbuMkXevc3NgBnosAxYwBJlffwi8yFR74uzweiBrZMotCKN6k3AZs2aHba9+CnNgc0T7jly89Cpk7eXKrII2NwMdEwGLGCJ8v01We0gsKHvKQIHU1rACqDyxv+OTZ0Xxs4cG624SAGW9moGzIAZiBiwgCUqCr+Q1WkCx6kcIbAa4ULh54lCK9Ko3npg3O5302amTmzesHGR1B6JdmbADJiBghmwgBVMWc0Z1KOAQeJfHnkrXDHonfDEcU1hxcUWqDlenSAzYAZqnAELWKIM6iKrgwX2PuRz7A7KIzR28LhU4HTHq4XzM2x+p+9HCjOFr4W+wshc4dargE34akrY4vwnwy83XC6cs8faeVBnL2bADJiBNAYsYImKw+2yelPYTzhL+LXwhnBMG6EhWqOE7YVxAnNn+2YIFGeMxeeLsdKRIUpEr1VXrwLGDf3x9uHhvlc/DI/9Yeuw/CLzJ8oMG5kBM9BBGbCAJcr4eBVivHCDLSWeETZpIzTOEmkRdoz8nRRd+7dih7j9Rti5vQrY6Inf6MXmZ8NC83cOt/bd1HskJiqONjIDHZQBC1iijH9RVhsJTwv0kD4W+K2trSX2lh96Uyy/xx0gbCz0y0gFQ4i8Uzav0Ed4u70KGPc1/IPPw/5XvxAW6TavRGyTsHQPb/SbqFTayAx0NAYsYIlyHAG6U+C9L45U6SacLvy9jdDyFbA4GIYo6a39Nku4zI2B0NDQ0Hvs2LGJbqRWjF56f3L4zTUvhsUXnC8lYkt2T59arJVUOh1mwAzUFAMWsIpmR6FDiOyzNFno0Z57YPG9DRs7KSViiBcitoRFrKKF05GZgbpjwAKWKMvmkxXvfDUKbCcVOxZ05HL4ZRHHtsJ4gUUc9LJGpBn11Od4yJBDM9nlI+eLUvW8iCOTrCFjJoXfXvuihhERsU1TPTI7M2AGzEBWBixgiQrGw7L6QmAfRJa7x+6iPELbRX4uEViReK1wroDwDRU41Zkl9hyUOV2g98X8WLrA/U8U7UnAuLkX3vssNF83JCy3cNdwi3pii3WziOVRruzFDHQ8BixgifL8dVmtlciyDEbtTcCg6Ll3J4aDBgwJjYsuEG4+dJOwyAKsZ7EzA2bADKQxYAFLVBz+IavLBPZErLprjwIGqYPfmSNiKy3eLdx8yMZhYYtY1cuaE2AGaooBC1hB2YFgzRaYy2Ku6j1hqsB26vzu3egLorNtz0+P+jQccsPQ0HOJbuEmidhC87sn1jZr9mEGOggDFrCCMnqFNnxXZS17e+2BxVwPemtC6HvDsLDaUguGf0nEenTlvXE7M2AGOjwDFrD6LwLtXcDIoSfe/CQcpkMwey3dPdwoEevexSJW/yXXd2AGimTAAlYkgTVg3hEEDJofH/lJOPymYWGtZXuEGw7aSAdiWsRqoPg5CWagegxYwKrHfali7igCBl+PjPg4HHnTS2Hd5RcK10vEus2X/hpeqRh1OGbADNQFAxawRNl0lKz+JfCeVtVdRxIwyH7otY9Cv1teDhs0LBQGHLhRWMAiVvUy6ASYgaowYAFLRPs5svqV8JLAy8iPCKxCrIrraAIGyQ+8+lE4+taXQ+8VFpaIbRjmn9c9saoUPkdqBqrJgAUsMfssnd9BOFBgq6fbhGuEdxOHmNCwIwoYVN07/MPwe4nYxisuGq5t3jB0nZfNTezMgBnoMAxYwIrK6nUjAeOIlCcFzgN7TDihqFALNO6oAgZNd788Phx72yth05UXDZftu4F37Ciw7Ni7GahrBixgibKPk5c5aHKicDX1qMDehewez0a8KycKNaFRRxYwKPvPS+PCCXe8mpoLO36HVcN+G68Q5p6LDrKdGTAD7ZoBC1ii7D1TVsx9ZXtxeQ39/kaiUBMadXQBg7a3P/kqtNw3QttPfZZ6V+zM3dcMGzYukpBRm5kBM1AXDFjA6iKbcibSAjaHntmzZ4eHXv84nHP/yPDhF1PCnusvG07aeXWfK1b/Rdx3YAayM2ABq/+SYQH7cR5+O21GuHLQu+Gqp94L884zVzhm256hefPG0HluRnjtzIAZaDcMWMDqPystYNnzcMzEb8LZ6o0NfHNCWEWbAbfsumbYoudi9Z/hvgMzYAbmMGABq/+SYAHLnYcD3/gknCUhG/vZt2GXtZcKp/y0V1h2oa71n/G+AzPQ0RmwgBVUAr5iqiWHRfeCQiuRZwtY20ROmT4zXP3Me+HyJ99Jee63zSrhkC1XCl06+92xttmzDzNQowxYwBJlzNmy+ki4UWC99q+FpYXT8wiNd8YuFag5WYJ/fobNsfp+iDBD+FQ4SMh5TIsFLA/WIy/jP/8unPvAyPDgax+HFRadP5yxa6/QZ/Ul8w/APs2AGagdBixgifJiuKx4iTndZfstM3BEa5SwvTBOGCLsK4xM87iNPr8gfCscLjQJ++RKpQWs8Dx89u2J4Yx7Xw/vfvqNBGyJcPrPeoXGxRYoPCBbmAEzUD0GLGCJuH9OVlcItwoMKSJCRwqbtRHapvq/Rdgx8ndSdO3fit36+v1yYXMLWKJ8ymk0bcascP1zY8Ilj48K02fODn23Wikcsc3K3lex9FQ7RDNQHgYsYIl4bZQVw4AICwI2WPi9MKaN0PbW/wwhMkSIO0DYWOjXih3i9bHA5sGtOvfAEuXh90YTvpwS+j/0ZrhL21It06NLOFW9sZ3XWip06uTdPIpj1tZmoMwMWMDKTPCPgy9EwPaPhG1rXadmSWVf/QZCQ0ND77Fjc06TVfQm6zWyIWMmhdPvGRHe+OjLsPkqi6aW3fdccsF6vR2n2wy0fwYsYInyeHFZHSo0CunneLDgIpfLdwhxOwVymYB4TWgrhe6BtcVQ/v/PmDkr3PLi++HCR94K306bGQ7UC9BH60Von/6cP4f2aQYqxoAFLBHVzIE9IwwTZqaFcGcboSF2LOLYVhgvsIhjP2FEmh3zXncIDDWyMXCbzgLWJkUFe/js66nhL4++FW4d8kFYrNt8YX9tELzXBsuG5ReZv+CwbGAGzECZGLCAJSL2FVmtl8gyhF1kd4nAikQ2BD5XOEsYKtwrPC6sLbBMH/e+sFuuuCxgCXMiD7PhH3ye6o0Nfnei9loMYSNtEIyQ7bLO0qF7l855hGAvZsAMlI0BC1giallUQS/swUTWJTaygJWY0CzB8f4YZ4/dqaNb3tPS+/m0x+L2vZYMP99gubCltqeax/sslj8THIMZyGTAApaoTLAjBy8NsbiCc8BYrsZqRO/EkYjO+jFix/tXx32ROoOME6Enfzs9NcS4+3rLpHpmHOXi1Yv1k59OaZ0zYAGr8wxU8t0Dq04e8h7ZoLcmSMzGa8PgT1Lvkq2+1IIpIdt9vWXDkt27VCdhjtUMdBQGLGCJc3phWfYU0muppxOHVoShBawI8kpkOvmbaeH+1z5K9cxefv/zwIHQW/RcXEOMy4Ydei0Vus7rPRdLRLWDMQM/MGABS1QaeBH5GGE5gQUdmwjPC30ShVakkQWsSAJLbP7ep1+nXoqmZ8bcWbf55km9GL2X5ss2XnGRMBfqZmcGzEDxDFjAEnH4mqw2FP4rsBpxdeE8Ya9EoRVpZAErksAymc+aNTu8qJej6ZWxefDXU2ekjnHhpOg91TNbefFuZYrZwZqBDsKABSxRRvP+FgJG74utoFjMwbtcayYKrUgjC1iRBFbA/Du9FP3oyI9TvbJn3v40SNvCessvlBpi/Nk6y4SFF5i3AqlwFGagnTFgAUuUoXfJ6kCB/Q8ZNpws8FIQ73hV3FnAKk55URGy9+I9r3yYWpL/5sdfhc5zd0rtiM8Q4zarLRHm1RJ9OzNgBvJgwAKWB0m5vbDdUw/hYWFa0aElCMACloC0GjEZ+eGXqSHGuyVoE7X7x8Lzdw67rsuS/OXCusv18JL8GsknJ6NGGbCA1WjGFJAsC1gBZNWoV/ZgfOadiakhxkdHfBymaon+SosvkHpReg/NmTF3ZmcGzEAGAxaw+i8SFrD6z8P0O/hyyvTwkJbk3ykxe3H0pNRfa+gF6RW0D+Pyi3QNDboux+eFdV24a+jS2Uv021cJ8N3kzYAFLG+qatajBaxms6bohH0w6dvUkvyX358c3tfncZO/S/XO0t2S3edLiRqCxmbDKUjYGhadPyy5YBcv2y86FxxAzTJgAUuUNb1kNTKzM6vvgxKFVqSRBaxIAuvInKX5zJUhZh9M/ja8/9l3c66Im/CRFoiw6XDs5tUejfTS6LE1qPeGyKXELhK8HppzszMDdcuABSxR1r0uqxuFPwvsxMH1JwLnfVXcWcAqTnnNRjh1xszw4edTAj23WOT4/MGkOUL3ufZuTHfdu8yTErPvRS3uvem6rIRvvnk8PFmzme2EhWABS1QK2Mj3AqG3wJG9N0Xffzy2kyjowo0sYIVz1lEtmF+bI2hzRO1HIqfhSfZ3jF0nbRjCEOScObc5c2+pHpyGJrkuseB8Hp7sqAWpVu7bApYoJ3jrlHO8thfYTuFU4dZEIZXAyAJWAhIdRGB48tN4eDLuwUU9NwTv48zhSb2vxvDkD8OS0QKTSOR8XpoLVdkZsIAloni4rO4RzhYWE/4u8A7YLxKFVqSRBaxIAm2eFwMMT45XL+0DIZ5z+6EH91344rsfD0/26No5LN2jS1hGrwAsxVVYqkfX1G9z0NWbHOfFvD21yoAFLFHhYL6LE5TT3QH6wrxYxZ0FrOKUO8IsDCBg3w9Par6NIcqPvgBTUpikHfszXSxyCBriNkfkfhA9fp9/3nnMtxnIzoAFrOIlYyfFeKnA7PjVwvkZKdhK3y8R1hF+JdzRVgotYG0x5P9rgYEp02eGTzQMySKTj7+MhE2fEbfUd33+LIfIIWz02uaIHT26OT07vi+gHf/tOiADFrCCMv0l+d6gDYtcfhCtUQJzZ+MENgXeV0hfkt+o75zsfLxwrwWsoPyx5zpnIBa5lKgJH6oHx3VOL27O54lf/29PjtWUiNuc3psErruETtf04UqLXJ0XjmzJt4AVlKnfyffbAgc6pb1t830Y/M6+iA2thMoy+xZhx+j/k6Jr/yz+B+i3+y1gBeWPPXcABpiL++SLqT8anvxY4vZhJHqIHe/KZboFUyLXei9uac3VcXabXR0xYAErKLNWyMP3TPmhd5XN7a0fGULkQEwc82Ycx9LPApYHs/ZiBvJkAJGb8CUiN6fn9n2PTgeMspqS759+lUXkJGD03FKLTbpL7KJeXPr83IJd/PJ3ntlQfm8WsII5ZhiQs784xLJQV0oB66vIQWhoaOg9duzYQtNi/2agQzPAO2/MySFoHyJsGUOV9OjoyaXvbAJh9NLiebj/6dFFKy79CkGFipYFLBHRLKE/Sni/QGsPIRZImL2bgWoygMhN+Cqeg2NeTkOVLEJJ69nx7lw2kWOPSnprXbXZcpfOc6U2XZ6DuVI7nPD5x//N8TPnvzmf5/yfZq//5kvZz+WjdigYFrBEj8fTslpfeFH4Ji2E3doIjQF2FnFsK4wXWMSxn0CPLtMN0A+eA0uUPTYyA5VjYLqOwkn15NJ6cPGQ5ddTZ4Sp02eF77QCkwUqUzS0OUXf+czv02SbxLFLSpc0oZsjfLFI/q/4xYL5Y2H8X8H8H1GtdcG0gCUpPoFDLLO5p/IIjVObWSbPUOS1Ajt6nCXwXhmrDjcUOPF5YWGK8LGwZq5wvYw+D9btxQzUIAMztftJSthS4jZH2OZglgRuZiR80e8/Er/M/36wLZdgxgIZ9wozBTMW1K7zxr3I9J5jJKrf//fjHukc2zk9zoJ6mBawgko1G/f+TlhFeE24RphRUAhl8GwBKwOpDtIMtEMGEEwWuHw3Lbtg0kP8blp2wURgU3YZYotgzrErbQ/ze4HM6Gl+Pxyr34/vf1hYUitLF3z+2US51alTp2EyZGOKmncscS/W/VsBsF/OM8LOAisnjik20GLtLWDFMmh7M2AGysFAPoJJb/N/xe8Hgc0U21gwEdILLj8mNC66QFj4xcGJkt/RBIxe19oRU8xnMQfW1ovNiYgtxMgCVghb9msG1OnlowAAChdJREFUzEC7YcBDiAVlZeYuG/nszFFQBEk8W8CSsGYbM2AG6p4BC1hBWchLyvGqQ4YkuwrfCvHOHGwBVXFnAas45Y7QDJiBWmDAAlYLuVBcGixgxfFnazNgBuqUAQtYnWZcWrItYPWfh74DM2AGEjBgAUtAWo2ZWMBqLEOcHDNgBirDgAWsMjyXMxYLWDnZddhmwAzULAMWsJrNmrwTZgHLmyp7NANmoD0xYAGr/9y0gNV/HvoOzIAZSMCABSwBabVn8qmS1Np5Kovpv4m1l+RUipy2wjPGnBXOWS2XNedn4flZSs4443HxwpNQeYtSbCVV+VQXHyObBNfqXl9OW+H5a84K5wyLWuWtVtNlzpKVs7JZWcDKRm3igP3wFk6dOSucM1fG5iwZAzVkZQGrocyIkuLKuPA8MWeFc2YBM2fJGKghq44qYH2VB/+ooXxIT4rTVnjGmLPCOcOiVnmr1XSZs2TlrGxWHVXAykaoAzYDZsAMmIHKMGABqwzPjsUMmAEzYAZKzEBHFLCdxOGlwtzC1cL5Jea00ODGyOArgV39Ocma1ZGLCBwU2ijw/y+FyYUGXKD/a+X/Z8IEYa3ItrV0UG7gcBeBkweaBY7RKZfLlrYWRXaowOsSuJOFB6PPJ+l6sACnRwuPlClhyyvcG4QlhdkCw9LwUgu8tZa2WuCNU9yfFuYTOEPwDuEMYUXhVmFRgVOBDxCmRf7gubfwmbCPMKYMedpaugYorq2FL6I4m3V9Raj0c0D01FvM+Y4XeF6rzVkZsiH/IDuagJH5o4TthXHCEGFfYWT+lJXcJw8iopX+Xtqf9X2SgLieKCws/KnkMf84wK309WuBiiIWsNbSgXAdJXDdWKDS5louly1tLVF6/5IRaS99v0XYSFhGeFxYVUDMSu2WVoAA8V5QoNLdQ2gWsuVfJXlrLW00hsjnavJGvbNAlI7Ouj4rcIr7scJ/BETs78Jw4UrhCGEd4XfCr4Q9BUSs1K61dBHv/QJCm+4qmZ9xvHBEfcExVQjYbVXmrNR5UFB4HU3ANhU7LcKOEUu01HH9C2KttJ7HRAUyXcDe0m9NwkcCFdEgYbXSRps1tEb9yoMaC1hr6bgqShNCgUv3V65kZqaNfMxWEWfmKb0v/D5froSlhXuPPl8eIVv+VYO3OHlx2javMd7mV3oQsMOFB4SlBEYi0p/V9Dykx/axwIu29HrL5dLTRdqyCVil83M5peN64VwBIdtVYASiVjgrV160Gm5HE7C9xQRDiIdEjDBEQc+hX8WZ/yHC0frI8CAPIw8Ew1CfCwtFXsgj/o+/lzOpjdGDGgtYa+ngYaZ3SMWDGyjQQ2Roo1wuM20tiqhZ+DKK97iIJwTkv8K/ooRco+tDQmbrudTpJH0Mi8Hd+0K2/KsGb9xnetqo+GqBN0ZD6LGuIlwhXBjlG99xDIGSb/D5usBzy6gJ7l2B57Ycu+lkpotyPUBAUKcKlHVGRfhc6fykDNPYprd/vNBcI5xF2VL5iwWs+gK2rLKd8ewlhMcEhubuFdIFCwFjGLHcrjF6KLMJGHHH6aj0g0vcmWlj3okKDOE/W6CnepBQDQHrpnifEmgZMwSWLvzV5i0zbbXEG9xQzu8SThMGCNUWsPgZi9PF88i8G72+eQUamAjoWdGzUqmGHMOFDFkynNokWMBEQkcTsFocQowfGK4tAsNiLE6gkHoI8Qd2GqMKIxbXdN7S/6v0ECJzOAg6w1wXR4mqlaHXbGmrFd7S03G6vnwn0NuppeEw0sUipfT5wlg8EJRKDiHS82LEiOFVFpswB4bwMx1SS5yl52vZP3c0AWP8nEUc2wr0eljEsZ8wouxMZ4+Aiey5BFYh8pkeGC070kerL17Ewaq2EyqQxkbFkT4HxrBOtnT8VL8z7Bov4vibPrNoopwuM230uBB43B8EhpSY4F9TuDlKD4s4GPLpKZRjEQfPD3MSLNj4fdrN1wJvraWtFnhj/mq6QE+1q/CocIHwW+FOIV7E8ao+/59wpLC2EC/i2EufWYxSatdauhjqpKzB6V+FKQLDiNV4DrjnJoEeGCJ6e5U5K3UeFBReRxMwyKHSvURgrJvl2Qz7VMutpIhpReEQVype0sMyYlYXNQjsqM/DSiVZTseCjCaBXa0/EVjWfHcr6aDcMFTHvAQt1AOFcs5/ZUsbaV1PYAhxjHCYEAvaKfrMcCKtVYSFuZRyuC0U6DPCa8KsKAKW879QA7y1ljZW3VabN1YUIvw8gzTgKOs03HgeEC8abC8L+wvMNdHjuFFYX+A5oKHyXhkytLV0PaG4EDfKPcvnEVJGSir9HMS33KQPsYBVm7MyZEP+QXZEAcufHfs0A2bADJiBmmXAAlazWeOEmQEzYAbMQC4GLGAuH2bADJgBM1CXDFjA6jLbnGgzYAbMgBmwgLkMmAEzYAbMQF0yYAGry2xzos2AGTADZsAC5jJgBnIz0KK/WTLNi6NsFcXmwJV0uykyNiiu9qkJlbxnx2UG8mLAApYXTfbUgRmIBSxz9/YOTIlv3QzUBgMWsNrIB6eithjgRWh2heBstA8EdmJgC6t4R/Ix+szL1TsLvCzdV2CrH/bxYxcOjgLB/VHgJXTOveKFdV4ObxR4sZqNkDcT2BFmd4GtlDi7jJdkCZMjfnhht1ng+Ax2PsGWl+952ZxdyHmBnI2DBwhsaow/thVi15Zyb16sKOzMQHUZsIBVl3/HXnsMcGgigsDWVOyOwllfCFKmgLH1EWdVsbUQW39xTAk7RrBzOhvm7iBw+gE7hPCcsUEz56shOO8IiA27OrALBf+xe/6HwooCu0+wmSxbLTVHfhGw+wSEiV0s2GmE4UXOHxsgsBUZZ2StHoUXb4qrr3ZmoH0yYAFrn/nqu0rOAFtPsZURG7ni2KAXYckUMASL3hNCwibRbMCMQ6DYkuhUAQFDhHDsCk8vjb0Z2fOS/RlxbGDLprvnCA8LzLexhRfgc7MQ98DYfZ+9DNlHEBu2zqI3NiAK86YoTPbW5MgNOzPQrhmwgLXr7PXNJWAgXwFDVBCUdIEhujGR4LArPhtHs2N5umvUl/QNk9nTDnFrEdgbkNOnOaiQ4Uk2sGU/wHwELB7eJC6EjzDtzEC7ZsAC1q6z1zeXgIENZDNASB9CRIQye2BtCRjhcE4Zw4sICue+0XPipN9sAsZmtmzePEagd8Umzqw+ZIgwFjCGGtl9nI1tmwXmzvaM0msBS5DZNqlvBixg9Z1/Tn15GEhfxMGQIPNghQoYvbNjhPj0b0SM3hTHumQTME4heFLoIfBcMifG0nmEKhawFfT5OiHbIg4LWHnKgkOtYQYsYDWcOU6aGTADZsAMtM6ABcylwwyYATNgBuqSAQtYXWabE20GzIAZMAMWMJcBM2AGzIAZqEsGLGB1mW1OtBkwA2bADFjAXAbMgBkwA2agLhmwgNVltjnRZsAMmAEz8P/w3Ji6pWU95gAAAABJRU5ErkJggg==\" width=\"432\">"
      ],
      "text/plain": [
       "<IPython.core.display.HTML object>"
      ]
     },
     "metadata": {},
     "output_type": "display_data"
    }
   ],
   "source": [
    "cur_dim_axs = plot_precission(xs, ys, 50)"
   ]
  },
  {
   "cell_type": "markdown",
   "id": "f8d061d9",
   "metadata": {},
   "source": [
    "## Comparing effective resistances"
   ]
  },
  {
   "cell_type": "markdown",
   "id": "cf2528fb",
   "metadata": {},
   "source": [
    "Using Shermann-Morrison formula to compute effective resistance of $e_i - e_j$ with respect to $L - (e_i - e_j) (e_i - e_j)^T$, when $(i,j)$ is an edge of the graph. If $v := e_i - e_j$, and $t := v^T L^+ v$, we have\n",
    "\n",
    "$$v(L - v v^T)^{-1} v^T = v^T\\left(L^{-1} + \\frac{L^{-1}vv^TL^{-1}}{1 - v^T L^{-1}v}\\right) v = t + \\frac{t^2}{1-t}$$"
   ]
  },
  {
   "cell_type": "code",
   "execution_count": 662,
   "id": "b7b79404",
   "metadata": {},
   "outputs": [],
   "source": [
    "def effective_resistance_fixed(A, Li, i, j):\n",
    "    t = Li[i,i] + Li[j,j] - 2*Li[i,j]\n",
    "    #return t\n",
    "\n",
    "    if A[i,j] == 0:\n",
    "        return t\n",
    "    else:\n",
    "        return t + t*t/(1-t)"
   ]
  },
  {
   "cell_type": "code",
   "execution_count": 354,
   "id": "3a70a2bb",
   "metadata": {},
   "outputs": [],
   "source": [
    "def all_effective_resistances(A):\n",
    "    ER = np.zeros(shape=A.shape)\n",
    "    Li = np.linalg.pinv(laplacian(A))\n",
    "    for i in range(A.shape[0]):\n",
    "        for j in range(i):\n",
    "            ER[i,j] = ER[j,i] = effective_resistance_fixed(A, Li, i, j)\n",
    "    return ER"
   ]
  },
  {
   "cell_type": "code",
   "execution_count": 665,
   "id": "bf44156e",
   "metadata": {},
   "outputs": [],
   "source": [
    "def plot_effective_resistances_histogram(A):\n",
    "    ER = all_effective_resistances(A)\n",
    "    con = []\n",
    "    uncon = []\n",
    "    for i in range(A_gr_ld.shape[0]):\n",
    "        for j in range(i):\n",
    "            if ER[i,j] < 0.01:\n",
    "                continue\n",
    "            if A_gr_ld[i,j] == 1:\n",
    "                con.append(ER[i,j])\n",
    "            else:\n",
    "                uncon.append(ER[i,j])\n",
    "    _= plt.hist(uncon, bins=50, range=(0,0.5), density=True)\n",
    "    _ = plt.hist(con, bins=50, range=(0, 0.5), density=True, alpha=0.8)\n",
    "    return (con, uncon)"
   ]
  },
  {
   "cell_type": "markdown",
   "id": "63097fc4",
   "metadata": {},
   "source": [
    "## Comparing distribution of effective resistances for GR(n,p,d)\n",
    "Distribution of effective resistance on vertices connected by an edge (affter correcting for hiding the edge), and not connected.\n",
    "\n",
    "First plot is $GR(n=4000, p=10/4000, d=10)$. (i.e. average degree $10$, dimension $d=10$."
   ]
  },
  {
   "cell_type": "code",
   "execution_count": 664,
   "id": "231090c1",
   "metadata": {},
   "outputs": [
    {
     "data": {
      "image/png": "[encoded data removed]",
      "text/plain": [
       "<Figure size 432x288 with 1 Axes>"
      ]
     },
     "metadata": {
      "needs_background": "light"
     },
     "output_type": "display_data"
    }
   ],
   "source": [
    "_ = plot_effective_resistances_histogram(A_gr_ld)"
   ]
  },
  {
   "cell_type": "markdown",
   "id": "97c18fd6",
   "metadata": {},
   "source": [
    "### GR(n=4000, p=10/4000, d=50)"
   ]
  },
  {
   "cell_type": "code",
   "execution_count": 668,
   "id": "aaac0c82",
   "metadata": {},
   "outputs": [
    {
     "data": {
      "image/png": "[encoded data removed]",
      "text/plain": [
       "<Figure size 432x288 with 1 Axes>"
      ]
     },
     "metadata": {
      "needs_background": "light"
     },
     "output_type": "display_data"
    }
   ],
   "source": [
    "con, uncon = plot_effective_resistances_histogram(A_gr)"
   ]
  },
  {
   "cell_type": "code",
   "execution_count": 476,
   "id": "af233dc2",
   "metadata": {},
   "outputs": [],
   "source": [
    "mu = sum(con)/len(con)\n",
    "err = np.sqrt(sum([(t-mu)*(t-mu) for t in con])/len(con))"
   ]
  },
  {
   "cell_type": "code",
   "execution_count": 479,
   "id": "c337438c",
   "metadata": {},
   "outputs": [
    {
     "data": {
      "text/plain": [
       "<matplotlib.lines.Line2D at 0x7f5c7ecbc160>"
      ]
     },
     "execution_count": 479,
     "metadata": {},
     "output_type": "execute_result"
    },
    {
     "data": {
      "image/png": "[encoded data removed]",
      "text/plain": [
       "<Figure size 432x288 with 1 Axes>"
      ]
     },
     "metadata": {
      "needs_background": "light"
     },
     "output_type": "display_data"
    }
   ],
   "source": [
    "plt.axvspan(mu-err, mu+err, color=\"red\", alpha=0.4)\n",
    "_ = plt.hist(con, bins=50, range=(0, 0.50), density=True)\n",
    "plt.axvline(mu, color=\"red\")\n"
   ]
  },
  {
   "cell_type": "code",
   "execution_count": 480,
   "id": "d76c7d45",
   "metadata": {},
   "outputs": [
    {
     "data": {
      "text/plain": [
       "<matplotlib.lines.Line2D at 0x7f5d5277af50>"
      ]
     },
     "execution_count": 480,
     "metadata": {},
     "output_type": "execute_result"
    },
    {
     "data": {
      "image/png": "[encoded data removed]",
      "text/plain": [
       "<Figure size 432x288 with 1 Axes>"
      ]
     },
     "metadata": {
      "needs_background": "light"
     },
     "output_type": "display_data"
    }
   ],
   "source": [
    "_= plt.hist(uncon, bins=50, range=(0, 0.50), density=True)\n",
    "plt.axvline(sum(uncon)/len(uncon), color=\"red\")"
   ]
  },
  {
   "cell_type": "markdown",
   "id": "195c4d5d",
   "metadata": {},
   "source": [
    "## Comparing number of length 3 paths\n",
    "$GR(n=4000, p=10/4000, d=50)$"
   ]
  },
  {
   "cell_type": "code",
   "execution_count": 671,
   "id": "801b387e",
   "metadata": {},
   "outputs": [],
   "source": [
    "def length_3_paths(A):\n",
    "    con = []\n",
    "    uncon = []\n",
    "    A_sq = square_sparse_matrix(A)\n",
    "    A_cb = mult_by_sparse_matrix(A_sq, A)\n",
    "    for i in range(A.shape[0]):\n",
    "        for j in range(i):\n",
    "            if A[i,j] == 1:\n",
    "                con.append(A_cb[i,j] - A_sq[i,i] - A_sq[j,j] + 1)\n",
    "            else:\n",
    "                uncon.append(A_cb[i,j])\n",
    "    return con, uncon"
   ]
  },
  {
   "cell_type": "code",
   "execution_count": 672,
   "id": "ca5fc41f",
   "metadata": {},
   "outputs": [],
   "source": [
    "con,uncon = length_3_paths(A_gr)"
   ]
  },
  {
   "cell_type": "code",
   "execution_count": 678,
   "id": "a7c1f3d4",
   "metadata": {},
   "outputs": [
    {
     "data": {
      "image/png": "[encoded data removed]",
      "text/plain": [
       "<Figure size 432x288 with 1 Axes>"
      ]
     },
     "metadata": {
      "needs_background": "light"
     },
     "output_type": "display_data"
    }
   ],
   "source": [
    "_ = plt.hist(uncon, density=True, bins = np.linspace(0, 10, 11))\n",
    "_ = plt.hist(con, density=True, bins = np.linspace(0, 10, 11), alpha=0.8, color=\"orange\")"
   ]
  },
  {
   "cell_type": "code",
   "execution_count": 487,
   "id": "fc5967c2",
   "metadata": {},
   "outputs": [
    {
     "data": {
      "image/png": "[encoded data removed]",
      "text/plain": [
       "<Figure size 432x288 with 1 Axes>"
      ]
     },
     "metadata": {
      "needs_background": "light"
     },
     "output_type": "display_data"
    }
   ],
   "source": [
    "_ = plt.hist(uncon, density=True, bins = np.linspace(0, 10, 11))"
   ]
  },
  {
   "cell_type": "code",
   "execution_count": 680,
   "id": "58842f02",
   "metadata": {},
   "outputs": [
    {
     "data": {
      "image/png": "[encoded data removed]",
      "text/plain": [
       "<Figure size 432x288 with 1 Axes>"
      ]
     },
     "metadata": {
      "needs_background": "light"
     },
     "output_type": "display_data"
    }
   ],
   "source": [
    "_ = plt.hist(uncon, density=True, bins = np.linspace(0, 25, 26), cumulative=True)\n",
    "_ = plt.hist(con, density=True, bins = np.linspace(0, 25, 26), cumulative=True)"
   ]
  },
  {
   "cell_type": "markdown",
   "id": "b669f065",
   "metadata": {},
   "source": [
    "## Scratch stuff..."
   ]
  },
  {
   "cell_type": "code",
   "execution_count": null,
   "id": "e74808b6",
   "metadata": {},
   "outputs": [],
   "source": [
    "def BFS(A, adj_lists, start, stop):\n",
    "    distance = np.full(A.shape[0], -1, dtype=int)\n",
    "    queue = np.zeros(A.shape[0], dtype=int)\n",
    "    head = 0\n",
    "    tail = 0\n",
    "    distance[start] = 0\n",
    "    queue[head]=start\n",
    "    head += 1 \n",
    "    while head > tail:\n",
    "        cur = queue[tail]\n",
    "        tail += 1\n",
    "        for neigh in adj_lists[cur]:\n",
    "            if cur == start and neigh == stop:\n",
    "                continue\n",
    "            if distance[neigh] == -1:\n",
    "                distance[neigh] = distance[cur]+1\n",
    "                queue[head] = neigh\n",
    "                head += 1\n",
    "            if neigh == stop:\n",
    "                break\n",
    "    return distance[stop]"
   ]
  },
  {
   "cell_type": "code",
   "execution_count": 321,
   "id": "4409777c",
   "metadata": {
    "scrolled": true
   },
   "outputs": [
    {
     "data": {
      "text/plain": [
       "3"
      ]
     },
     "execution_count": 321,
     "metadata": {},
     "output_type": "execute_result"
    }
   ],
   "source": [
    "BFS(A, adjecency_lists(A), 0, 5)"
   ]
  },
  {
   "cell_type": "code",
   "execution_count": null,
   "id": "5122fa00",
   "metadata": {},
   "outputs": [],
   "source": [
    "plt.ion()"
   ]
  },
  {
   "cell_type": "code",
   "execution_count": 676,
   "id": "bfed4aa2",
   "metadata": {},
   "outputs": [],
   "source": [
    "def slider_callback(i):\n",
    "    update_cur_dimension(xs, ys, xs[i], axs=cur_dim_axs)\n",
    "    show_plots(all_plots_list[i], (1,1), [[\"spectrum\"]], axs)"
   ]
  },
  {
   "cell_type": "code",
   "execution_count": 677,
   "id": "64ed41f0",
   "metadata": {},
   "outputs": [
    {
     "data": {
      "application/vnd.jupyter.widget-view+json": {
       "model_id": "72a8477503964ca7a6afd50e43fae81b",
       "version_major": 2,
       "version_minor": 0
      },
      "text/plain": [
       "interactive(children=(IntSlider(value=5, description='i', max=11), Output()), _dom_classes=('widget-interact',…"
      ]
     },
     "metadata": {},
     "output_type": "display_data"
    },
    {
     "data": {
      "text/plain": [
       "<function __main__.slider_callback(i)>"
      ]
     },
     "execution_count": 677,
     "metadata": {},
     "output_type": "execute_result"
    }
   ],
   "source": [
    "ipywidgets.interact(slider_callback, i=(0, len(xs)-1))"
   ]
  },
  {
   "cell_type": "code",
   "execution_count": 675,
   "id": "90944a55",
   "metadata": {
    "scrolled": false
   },
   "outputs": [
    {
     "data": {
      "image/png": "[encoded data removed]",
      "text/plain": [
       "<Figure size 1440x1080 with 4 Axes>"
      ]
     },
     "metadata": {
      "needs_background": "light"
     },
     "output_type": "display_data"
    }
   ],
   "source": [
    "axs = show_plots(all_plots_list[0], (2,2), [[\"spectrum\",\"degrees\"], [\"neigh_connected\", \"neigh_unconnected\"]])"
   ]
  },
  {
   "cell_type": "code",
   "execution_count": 593,
   "id": "bfd9e100",
   "metadata": {},
   "outputs": [],
   "source": [
    "axs[0,0].clear()"
   ]
  }
 ],
 "metadata": {
  "kernelspec": {
   "display_name": "Python 3 (ipykernel)",
   "language": "python",
   "name": "python3"
  },
  "language_info": {
   "codemirror_mode": {
    "name": "ipython",
    "version": 3
   },
   "file_extension": ".py",
   "mimetype": "text/x-python",
   "name": "python",
   "nbconvert_exporter": "python",
   "pygments_lexer": "ipython3",
   "version": "3.10.4"
  }
 },
 "nbformat": 4,
 "nbformat_minor": 5
}
