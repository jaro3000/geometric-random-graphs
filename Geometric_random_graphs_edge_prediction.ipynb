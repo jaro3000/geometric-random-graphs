{
 "cells": [
  {
   "cell_type": "code",
   "execution_count": 1,
   "id": "d2b65157",
   "metadata": {},
   "outputs": [],
   "source": [
    "import numpy as np\n",
    "import matplotlib.pyplot as plt\n",
    "import scipy.special\n",
    "import math\n",
    "import ipywidgets\n",
    "%matplotlib inline"
   ]
  },
  {
   "cell_type": "code",
   "execution_count": 2,
   "id": "8736259b",
   "metadata": {},
   "outputs": [],
   "source": [
    "def gaussian_orthogonal_ensemble(n : int, d:int) -> np.array:\n",
    "    v = np.random.normal(size=(n,d))\n",
    "    A = v.dot(v.T)\n",
    "    D = np.outer(A.diagonal(), A.diagonal())\n",
    "    D = np.sqrt(D)\n",
    "    A /= D\n",
    "    return A"
   ]
  },
  {
   "cell_type": "code",
   "execution_count": 3,
   "id": "e575faa9",
   "metadata": {},
   "outputs": [],
   "source": [
    "def erdos_renyi(n : int, p : int) -> np.array:\n",
    "    A = np.random.uniform(size=(n,n))\n",
    "    for i in range(n):\n",
    "        A[i,i] = 0\n",
    "        for j in range(i):\n",
    "            A[i,j] = A[j,i]\n",
    "    A = ( A > 1-p ).astype(int)\n",
    "    return A"
   ]
  },
  {
   "cell_type": "code",
   "execution_count": 4,
   "id": "60003ff3",
   "metadata": {},
   "outputs": [],
   "source": [
    "def laplacian(A : np.array) -> np.array:\n",
    "    return -A + np.diag(A.dot(np.ones(A.shape[0])))"
   ]
  },
  {
   "cell_type": "code",
   "execution_count": 5,
   "id": "c5c902e8",
   "metadata": {},
   "outputs": [],
   "source": [
    "def density_from_threshold(d: int, h : float) -> float:\n",
    "    if h > 1:\n",
    "        return 1 - density_from_threshold(d, 2-h)\n",
    "    return scipy.special.betainc((d-1)/2, 1/2, 2*h - h*h)/2"
   ]
  },
  {
   "cell_type": "code",
   "execution_count": 6,
   "id": "e0036b64",
   "metadata": {},
   "outputs": [],
   "source": [
    "def invert(y, f, low=0, high=2, accuracy = 1e-9):\n",
    "    while high-low > accuracy:\n",
    "        mid = (high+low)/2\n",
    "        if f(mid) < y:\n",
    "            low = mid\n",
    "        else:\n",
    "            high = mid\n",
    "    return low"
   ]
  },
  {
   "cell_type": "code",
   "execution_count": 7,
   "id": "e7673160",
   "metadata": {},
   "outputs": [],
   "source": [
    "def gr_graph(n : int, p : float, d : int) -> np.array:\n",
    "    h = threshold_from_density(d, p)\n",
    "    A = gaussian_orthogonal_ensemble(n, d)\n",
    "    A = (A > 1 - h).astype(int)\n",
    "    for i in range(A.shape[0]):\n",
    "        A[i,i] = 0\n",
    "    return A"
   ]
  },
  {
   "cell_type": "code",
   "execution_count": 8,
   "id": "bf530407",
   "metadata": {},
   "outputs": [],
   "source": [
    "def threshold_from_density(d : int, p : float) -> float:\n",
    "    return invert(p, lambda x: density_from_threshold(d, x), accuracy=1e-15)"
   ]
  },
  {
   "cell_type": "code",
   "execution_count": 9,
   "id": "9b2a73d3",
   "metadata": {},
   "outputs": [],
   "source": [
    "def adjecency_lists(A):\n",
    "    adj_lists = []\n",
    "    for i in range(A.shape[0]):\n",
    "        adj_lists.append(np.where(A[i,:] == 1)[0])\n",
    "    return adj_lists"
   ]
  },
  {
   "cell_type": "code",
   "execution_count": 10,
   "id": "fe9a481e",
   "metadata": {},
   "outputs": [],
   "source": [
    "def square_sparse_matrix(A):\n",
    "    A_sq = np.zeros(shape=A.shape)\n",
    "    adj_lists = adjecency_lists(A)\n",
    "    for i in range(A.shape[0]):\n",
    "        for u in adj_lists[i]:\n",
    "            for v in adj_lists[u]:\n",
    "                A_sq[i, v] += A[i,u]*A[u,v]\n",
    "    return A_sq"
   ]
  },
  {
   "cell_type": "code",
   "execution_count": 11,
   "id": "14ca958a",
   "metadata": {},
   "outputs": [],
   "source": [
    "def mult_by_sparse_matrix(A, B, adj=None):\n",
    "    if adj is None:\n",
    "        adj = adjecency_lists(B)\n",
    "    res = np.zeros(shape = (A.shape[0], B.shape[1]))\n",
    "    for i in range(B.shape[1]):\n",
    "        for neigh in adj[i]:\n",
    "            res[:, i] += A[:, neigh]*B[neigh,i]\n",
    "    return res"
   ]
  },
  {
   "cell_type": "code",
   "execution_count": 12,
   "id": "390ad092",
   "metadata": {},
   "outputs": [],
   "source": [
    "def common_neighbors_statistics(A, sparse=True):\n",
    "    if sparse:\n",
    "        common_neighbors = square_sparse_matrix(A)\n",
    "    else:\n",
    "        common_neighbors = A.dot(A)\n",
    "    connected_cn = []\n",
    "    unconnected_cn = []\n",
    "    for i in range(A.shape[0]):\n",
    "        for j in range(i):\n",
    "            if A[i,j] == 1:\n",
    "                connected_cn.append(common_neighbors[i,j])\n",
    "            else:\n",
    "                unconnected_cn.append(common_neighbors[i,j])\n",
    "    return (connected_cn, unconnected_cn)"
   ]
  },
  {
   "cell_type": "code",
   "execution_count": 13,
   "id": "3b663581",
   "metadata": {},
   "outputs": [],
   "source": [
    "def prepare_all_plots(A : np.array, bins_cnt = 50, sparse=True) -> dict:\n",
    "    res = {}\n",
    "    \n",
    "    w = np.linalg.eigvalsh(laplacian(A))\n",
    "    counts, bins = np.histogram(w[1:], bins=100)\n",
    "    res[\"spectrum\"] = (\"Spectrum density\", bins, counts)\n",
    "    \n",
    "    degs = A.dot(np.ones(A.shape[0]))\n",
    "    bin_width = int( (max(degs) - min(degs))/bins_cnt ) + 1\n",
    "    bins = np.linspace(0, bins_cnt - 1, bins_cnt)*bin_width + min(degs)\n",
    "    counts, bins = np.histogram(degs, bins=bins)\n",
    "    res[\"degrees\"] = (\"Degree distribution\", bins, counts)\n",
    "    \n",
    "        \n",
    "    if sparse:\n",
    "        bins = np.linspace(0, 20,21)\n",
    "    else:\n",
    "        bins = np.linspace(0, max(degs), bins_cnt)\n",
    "    con, uncon = common_neighbors_statistics(A, sparse=sparse)\n",
    "    counts,bins = np.histogram(con, bins=bins,density = True)\n",
    "    res[\"neigh_connected\"] = (\"Common neighbors of connected vertices\", bins, counts)\n",
    "    \n",
    "    counts,bins = np.histogram(uncon, bins=bins, density=True)\n",
    "    res[\"neigh_unconnected\"] = (\"Common neighbors of unconnected vertices\", bins, counts)\n",
    "\n",
    "    return res"
   ]
  },
  {
   "cell_type": "code",
   "execution_count": 14,
   "id": "87319a57",
   "metadata": {},
   "outputs": [],
   "source": [
    "def show_plots(plots, shape, plots_ids, axs = None):\n",
    "    if axs is None:\n",
    "        _, axs = plt.subplots(shape[0], shape[1], figsize=(20,15), squeeze=False)\n",
    "    for i in range(shape[0]):\n",
    "        for j in range(shape[1]):\n",
    "            current_plot = plots[plots_ids[i][j]]\n",
    "            axs[i,j].clear()\n",
    "            axs[i,j].set_xlabel(current_plot[0])\n",
    "            axs[i,j].hist(current_plot[1][:-1], bins = current_plot[1], weights = current_plot[2])\n",
    "    return axs"
   ]
  },
  {
   "cell_type": "markdown",
   "id": "21ba5378",
   "metadata": {},
   "source": [
    "## Geometric random graph $n=4000$, $p=10/4000$ (i.e. average degree is $10$), $d=10$"
   ]
  },
  {
   "cell_type": "code",
   "execution_count": 54,
   "id": "2ffdebca",
   "metadata": {},
   "outputs": [
    {
     "data": {
      "image/png": "[encoded data removed]",
      "text/plain": [
       "<Figure size 1440x1080 with 4 Axes>"
      ]
     },
     "metadata": {
      "needs_background": "light"
     },
     "output_type": "display_data"
    }
   ],
   "source": [
    "A_gr_ld = gr_graph(4000, 10/4000, 10)\n",
    "plots = prepare_all_plots(A_gr_ld)\n",
    "_ = show_plots(plots, (2,2), [[\"spectrum\",\"degrees\"], [\"neigh_connected\", \"neigh_unc1onnected\"]])"
   ]
  },
  {
   "cell_type": "markdown",
   "id": "819f63ae",
   "metadata": {},
   "source": [
    "## Geometric random graph $n=4000$, $p=10/4000$ (i.e. average degree is $10$), $d=50$"
   ]
  },
  {
   "cell_type": "code",
   "execution_count": 15,
   "id": "79ad81a0",
   "metadata": {},
   "outputs": [
    {
     "data": {
      "image/png": "[encoded data removed]",
      "text/plain": [
       "<Figure size 1440x1080 with 4 Axes>"
      ]
     },
     "metadata": {
      "needs_background": "light"
     },
     "output_type": "display_data"
    }
   ],
   "source": [
    "A_gr = gr_graph(4000, 10/4000, 50)\n",
    "plots = prepare_all_plots(A_gr)\n",
    "_ = show_plots(plots, (2,2), [[\"spectrum\",\"degrees\"], [\"neigh_connected\", \"neigh_unconnected\"]])"
   ]
  },
  {
   "cell_type": "markdown",
   "id": "f26d27d0",
   "metadata": {},
   "source": [
    "## Erdos-Renyi graph $G(n,p)$, $n=4000$, $p=10/4000$ (i.e. average degree $10$)"
   ]
  },
  {
   "cell_type": "code",
   "execution_count": 77,
   "id": "34d01da6",
   "metadata": {},
   "outputs": [
    {
     "data": {
      "image/png": "[encoded data removed]",
      "text/plain": [
       "<Figure size 1440x1080 with 4 Axes>"
      ]
     },
     "metadata": {
      "needs_background": "light"
     },
     "output_type": "display_data"
    }
   ],
   "source": [
    "A = erdos_renyi(4000, 10/4000)\n",
    "plots = prepare_all_plots(A)\n",
    "_ = show_plots(plots, (2,2), [[\"spectrum\",\"degrees\"], [\"neigh_connected\", \"neigh_unconnected\"]])"
   ]
  },
  {
   "cell_type": "markdown",
   "id": "0729bf63",
   "metadata": {},
   "source": [
    "## GR(4000, 1/2, 50)"
   ]
  },
  {
   "cell_type": "code",
   "execution_count": 52,
   "id": "e4c0491b",
   "metadata": {},
   "outputs": [
    {
     "data": {
      "image/png": "[encoded data removed]",
      "text/plain": [
       "<Figure size 1440x1080 with 4 Axes>"
      ]
     },
     "metadata": {
      "needs_background": "light"
     },
     "output_type": "display_data"
    }
   ],
   "source": [
    "A_gr_dense = gr_graph(4000, 1/2, 50)\n",
    "plots = prepare_all_plots(A_gr_dense, sparse=False)\n",
    "_ = show_plots(plots, (2,2), [[\"spectrum\",\"degrees\"], [\"neigh_connected\", \"neigh_unconnected\"]])"
   ]
  },
  {
   "cell_type": "markdown",
   "id": "d717e57e",
   "metadata": {},
   "source": [
    "## G(4000, 1/2)"
   ]
  },
  {
   "cell_type": "code",
   "execution_count": 53,
   "id": "13235515",
   "metadata": {},
   "outputs": [
    {
     "data": {
      "image/png": "[encoded data removed]",
      "text/plain": [
       "<Figure size 1440x1080 with 4 Axes>"
      ]
     },
     "metadata": {
      "needs_background": "light"
     },
     "output_type": "display_data"
    }
   ],
   "source": [
    "A_dense = erdos_renyi(4000, 1/2)\n",
    "plots = prepare_all_plots(A_dense, sparse=False)\n",
    "_ = show_plots(plots, (2,2), [[\"spectrum\",\"degrees\"], [\"neigh_connected\", \"neigh_unconnected\"]])"
   ]
  },
  {
   "cell_type": "code",
   "execution_count": 42,
   "id": "02dcde22",
   "metadata": {},
   "outputs": [
    {
     "data": {
      "image/png": "[encoded data removed]",
      "text/plain": [
       "<Figure size 1440x1080 with 4 Axes>"
      ]
     },
     "metadata": {
      "needs_background": "light"
     },
     "output_type": "display_data"
    }
   ],
   "source": [
    "A_gr_us = gr_graph(4000, 3/4000, 50)\n",
    "plots = prepare_all_plots(A_gr_us, sparse=False)\n",
    "_ = show_plots(plots, (2,2), [[\"spectrum\",\"degrees\"], [\"neigh_connected\", \"neigh_unconnected\"]])"
   ]
  },
  {
   "cell_type": "code",
   "execution_count": 20,
   "id": "c8de8e23",
   "metadata": {},
   "outputs": [
    {
     "name": "stdout",
     "output_type": "stream",
     "text": [
      "10\n",
      "14\n",
      "19\n",
      "27\n",
      "38\n",
      "53\n",
      "75\n",
      "105\n",
      "147\n",
      "206\n",
      "289\n",
      "404\n"
     ]
    }
   ],
   "source": [
    "d=10.\n",
    "xs = []\n",
    "ys = []\n",
    "all_plots_list = []\n",
    "while d < 500.:\n",
    "    print(int(d))\n",
    "    xs.append(int(d))\n",
    "    A_gr_tmp = gr_graph(4000, 10/4000, int(d))\n",
    "    con, uncon = common_neighbors_statistics(A_gr_tmp, sparse=True)\n",
    "    thresholding_alg = sum([1 if t >= 1 else 0 for t in con])\n",
    "    thresholding_success_rate = thresholding_alg / len(con)\n",
    "    ys.append(thresholding_success_rate)\n",
    "    d = d *1.4\n",
    "    all_plots_list.append(prepare_all_plots(A_gr_tmp))"
   ]
  },
  {
   "cell_type": "code",
   "execution_count": 21,
   "id": "fe018260",
   "metadata": {},
   "outputs": [],
   "source": [
    "def plot_precission(xs, ys, d, axs = None):\n",
    "    if axs is None:\n",
    "        fig = plt.figure()\n",
    "        axs = fig.subplots()\n",
    "    axs.clear()\n",
    "    axs.plot(xs, ys)\n",
    "    axs.set_xlabel(\"dimension\")\n",
    "    axs.set_ylabel(\"Pr[x and y has common neighbor | x ~ y]\")\n",
    "    axs.set_title(\"Edge prediction based on existance of common neighbor, n=4000, p=10/4000\")\n",
    "    axs.axvline(d, color=\"red\")\n",
    "    return axs"
   ]
  },
  {
   "cell_type": "code",
   "execution_count": 22,
   "id": "9d123da8",
   "metadata": {},
   "outputs": [
    {
     "data": {
      "image/png": "[encoded data removed]",
      "text/plain": [
       "<Figure size 432x288 with 1 Axes>"
      ]
     },
     "metadata": {
      "needs_background": "light"
     },
     "output_type": "display_data"
    }
   ],
   "source": [
    "cur_dim_axs = plot_precission(xs, ys, 50)"
   ]
  },
  {
   "cell_type": "markdown",
   "id": "f8d061d9",
   "metadata": {},
   "source": [
    "## Comparing effective resistances"
   ]
  },
  {
   "cell_type": "markdown",
   "id": "cf2528fb",
   "metadata": {},
   "source": [
    "Using Shermann-Morrison formula to compute effective resistance of $e_i - e_j$ with respect to $L - (e_i - e_j) (e_i - e_j)^T$, when $(i,j)$ is an edge of the graph. If $v := e_i - e_j$, and $t := v^T L^+ v$, we have\n",
    "\n",
    "$$v(L - v v^T)^{-1} v^T = v^T\\left(L^{-1} + \\frac{L^{-1}vv^TL^{-1}}{1 - v^T L^{-1}v}\\right) v = t + \\frac{t^2}{1-t}$$"
   ]
  },
  {
   "cell_type": "code",
   "execution_count": 23,
   "id": "b7b79404",
   "metadata": {},
   "outputs": [],
   "source": [
    "def effective_resistance_fixed(A, Li, i, j):\n",
    "    t = Li[i,i] + Li[j,j] - 2*Li[i,j]\n",
    "    #return t\n",
    "\n",
    "    if A[i,j] == 0:\n",
    "        return t\n",
    "    else:\n",
    "        return t + t*t/(1-t)"
   ]
  },
  {
   "cell_type": "code",
   "execution_count": 24,
   "id": "3a70a2bb",
   "metadata": {},
   "outputs": [],
   "source": [
    "def all_effective_resistances(A):\n",
    "    ER = np.zeros(shape=A.shape)\n",
    "    Li = np.linalg.pinv(laplacian(A))\n",
    "    for i in range(A.shape[0]):\n",
    "        for j in range(i):\n",
    "            ER[i,j] = ER[j,i] = effective_resistance_fixed(A, Li, i, j)\n",
    "    return ER"
   ]
  },
  {
   "cell_type": "code",
   "execution_count": 25,
   "id": "bf44156e",
   "metadata": {},
   "outputs": [],
   "source": [
    "def plot_effective_resistances_histogram(A):\n",
    "    ER = all_effective_resistances(A)\n",
    "    con = []\n",
    "    uncon = []\n",
    "    for i in range(A_gr_ld.shape[0]):\n",
    "        for j in range(i):\n",
    "            if ER[i,j] < 0.01:\n",
    "                continue\n",
    "            if A_gr_ld[i,j] == 1:\n",
    "                con.append(ER[i,j])\n",
    "            else:\n",
    "                uncon.append(ER[i,j])\n",
    "    _= plt.hist(uncon, bins=50, range=(0,0.5), density=True)\n",
    "    _ = plt.hist(con, bins=50, range=(0, 0.5), density=True, alpha=0.8)\n",
    "    return (con, uncon)"
   ]
  },
  {
   "cell_type": "markdown",
   "id": "63097fc4",
   "metadata": {},
   "source": [
    "### Comparing distribution of effective resistances for GR(n,p,d)\n",
    "Distribution of effective resistance on vertices connected by an edge (affter correcting for hiding the edge), and not connected.\n",
    "\n",
    "First plot is $GR(n=4000, p=10/4000, d=10)$. (i.e. average degree $10$, dimension $d=10$."
   ]
  },
  {
   "cell_type": "code",
   "execution_count": 26,
   "id": "231090c1",
   "metadata": {},
   "outputs": [
    {
     "data": {
      "image/png": "[encoded data removed]",
      "text/plain": [
       "<Figure size 432x288 with 1 Axes>"
      ]
     },
     "metadata": {
      "needs_background": "light"
     },
     "output_type": "display_data"
    }
   ],
   "source": [
    "_ = plot_effective_resistances_histogram(A_gr_ld)"
   ]
  },
  {
   "cell_type": "markdown",
   "id": "97c18fd6",
   "metadata": {},
   "source": [
    "### GR(n=4000, p=10/4000, d=50)"
   ]
  },
  {
   "cell_type": "code",
   "execution_count": 27,
   "id": "aaac0c82",
   "metadata": {},
   "outputs": [
    {
     "data": {
      "image/png": "[encoded data removed]",
      "text/plain": [
       "<Figure size 432x288 with 1 Axes>"
      ]
     },
     "metadata": {
      "needs_background": "light"
     },
     "output_type": "display_data"
    }
   ],
   "source": [
    "con, uncon = plot_effective_resistances_histogram(A_gr)"
   ]
  },
  {
   "cell_type": "code",
   "execution_count": 28,
   "id": "af233dc2",
   "metadata": {},
   "outputs": [],
   "source": [
    "mu = sum(con)/len(con)\n",
    "err = np.sqrt(sum([(t-mu)*(t-mu) for t in con])/len(con))"
   ]
  },
  {
   "cell_type": "code",
   "execution_count": 29,
   "id": "c337438c",
   "metadata": {},
   "outputs": [
    {
     "data": {
      "text/plain": [
       "<matplotlib.lines.Line2D at 0x7f0daf48e4d0>"
      ]
     },
     "execution_count": 29,
     "metadata": {},
     "output_type": "execute_result"
    },
    {
     "data": {
      "image/png": "[encoded data removed]",
      "text/plain": [
       "<Figure size 432x288 with 1 Axes>"
      ]
     },
     "metadata": {
      "needs_background": "light"
     },
     "output_type": "display_data"
    }
   ],
   "source": [
    "plt.axvspan(mu-err, mu+err, color=\"red\", alpha=0.4)\n",
    "_ = plt.hist(con, bins=50, range=(0, 0.50), density=True)\n",
    "plt.axvline(mu, color=\"red\")\n"
   ]
  },
  {
   "cell_type": "code",
   "execution_count": 30,
   "id": "d76c7d45",
   "metadata": {},
   "outputs": [
    {
     "data": {
      "text/plain": [
       "<matplotlib.lines.Line2D at 0x7f0daf1ac790>"
      ]
     },
     "execution_count": 30,
     "metadata": {},
     "output_type": "execute_result"
    },
    {
     "data": {
      "image/png": "[encoded data removed]",
      "text/plain": [
       "<Figure size 432x288 with 1 Axes>"
      ]
     },
     "metadata": {
      "needs_background": "light"
     },
     "output_type": "display_data"
    }
   ],
   "source": [
    "_= plt.hist(uncon, bins=50, range=(0, 0.50), density=True)\n",
    "plt.axvline(sum(uncon)/len(uncon), color=\"red\")"
   ]
  },
  {
   "cell_type": "markdown",
   "id": "195c4d5d",
   "metadata": {},
   "source": [
    "## Comparing number of length 3 paths\n",
    "$GR(n=4000, p=10/4000, d=50)$"
   ]
  },
  {
   "cell_type": "code",
   "execution_count": 30,
   "id": "801b387e",
   "metadata": {},
   "outputs": [],
   "source": [
    "def length_3_paths(A):\n",
    "    con = []\n",
    "    uncon = []\n",
    "    A_sq = square_sparse_matrix(A)\n",
    "    A_cb = mult_by_sparse_matrix(A_sq, A)\n",
    "    con_short_paths = 0\n",
    "    uncon_short_paths = 0\n",
    "    for i in range(A.shape[0]):\n",
    "        for j in range(i):\n",
    "            if A[i,j] == 1:\n",
    "                pc = A_cb[i,j] - A_sq[i,i] - A_sq[j,j] + 1\n",
    "                con.append(pc)\n",
    "                if pc >= 2 or A_sq[i,j] > 0:\n",
    "                    con_short_paths+=1\n",
    "            else:\n",
    "                uncon.append(A_cb[i,j])\n",
    "                if A_cb[i,j] >= 2 or A_sq[i,j] > 0:\n",
    "                    uncon_short_paths += 1\n",
    "    return (con, uncon, con_short_paths/len(con), uncon_short_paths/len(uncon))"
   ]
  },
  {
   "cell_type": "code",
   "execution_count": 48,
   "id": "ca5fc41f",
   "metadata": {},
   "outputs": [],
   "source": [
    "con,uncon, csp, usp = length_3_paths(A_gr_us)"
   ]
  },
  {
   "cell_type": "code",
   "execution_count": 49,
   "id": "a7c1f3d4",
   "metadata": {},
   "outputs": [
    {
     "data": {
      "image/png": "[encoded data removed]",
      "text/plain": [
       "<Figure size 432x288 with 1 Axes>"
      ]
     },
     "metadata": {
      "needs_background": "light"
     },
     "output_type": "display_data"
    }
   ],
   "source": [
    "unconh = plt.hist(uncon, density=True, bins = np.linspace(0, 10, 11))\n",
    "conh = plt.hist(con, density=True, bins = np.linspace(0, 10, 11), alpha=0.8, color=\"orange\")"
   ]
  },
  {
   "cell_type": "code",
   "execution_count": 52,
   "id": "820eb42f",
   "metadata": {},
   "outputs": [
    {
     "data": {
      "text/plain": [
       "0.05793408086986069"
      ]
     },
     "execution_count": 52,
     "metadata": {},
     "output_type": "execute_result"
    }
   ],
   "source": [
    "csp"
   ]
  },
  {
   "cell_type": "code",
   "execution_count": 53,
   "id": "c8cbba51",
   "metadata": {},
   "outputs": [
    {
     "data": {
      "text/plain": [
       "0.0022208141675656777"
      ]
     },
     "execution_count": 53,
     "metadata": {},
     "output_type": "execute_result"
    }
   ],
   "source": [
    "usp"
   ]
  },
  {
   "cell_type": "code",
   "execution_count": 41,
   "id": "2511d388",
   "metadata": {},
   "outputs": [
    {
     "data": {
      "text/plain": [
       "0.255050505050505"
      ]
     },
     "execution_count": 41,
     "metadata": {},
     "output_type": "execute_result"
    }
   ],
   "source": [
    "sum(conh[0][2:])"
   ]
  },
  {
   "cell_type": "code",
   "execution_count": 34,
   "id": "fc5967c2",
   "metadata": {},
   "outputs": [
    {
     "data": {
      "image/png": "[encoded data removed]",
      "text/plain": [
       "<Figure size 432x288 with 1 Axes>"
      ]
     },
     "metadata": {
      "needs_background": "light"
     },
     "output_type": "display_data"
    }
   ],
   "source": [
    "_ = plt.hist(uncon, density=True, bins = np.linspace(0, 10, 11))"
   ]
  },
  {
   "cell_type": "code",
   "execution_count": 46,
   "id": "58842f02",
   "metadata": {},
   "outputs": [
    {
     "data": {
      "image/png": "[encoded data removed]",
      "text/plain": [
       "<Figure size 432x288 with 1 Axes>"
      ]
     },
     "metadata": {
      "needs_background": "light"
     },
     "output_type": "display_data"
    }
   ],
   "source": [
    "_ = plt.hist(uncon, density=True, bins = np.linspace(0, 10, 11), cumulative=True)\n",
    "_ = plt.hist(con, density=True, bins = np.linspace(0, 10, 11), cumulative=True, color=\"orange\", alpha=0.8)"
   ]
  },
  {
   "cell_type": "markdown",
   "id": "0a2318c2",
   "metadata": {},
   "source": [
    "## Projection onto top eigenvectors"
   ]
  },
  {
   "cell_type": "code",
   "execution_count": 17,
   "id": "a4b2c0ee",
   "metadata": {},
   "outputs": [],
   "source": [
    "def projection_statistic(A, f):\n",
    "    con = []\n",
    "    uncon = []\n",
    "    for i in range(A.shape[0]):\n",
    "        for j in range(A.shape[1]):\n",
    "            if A[i,j] == 1:\n",
    "                con.append(f(i,j))\n",
    "            else:\n",
    "                uncon.append(f(i,j))\n",
    "    return con,uncon"
   ]
  },
  {
   "cell_type": "code",
   "execution_count": 44,
   "id": "0a6a286c",
   "metadata": {},
   "outputs": [],
   "source": [
    "def display_comparison_plot(con, uncon):\n",
    "    unconh = plt.hist(uncon, density=True, bins=50)\n",
    "    conh = plt.hist(con, density=True, bins=50, alpha=0.8, color=\"orange\")\n",
    "    \n",
    "    avg_con = sum(con)/len(con)\n",
    "    avg_uncon = sum(uncon)/len(uncon)\n",
    "    threshold = (avg_con + avg_uncon)/2\n",
    "    false_positive = sum((np.array(con) > threshold).astype(int))/len(con)\n",
    "    false_negative = sum((np.array(uncon) < threshold).astype(int))/len(uncon)\n",
    "    plt.axvline(avg_con, color=\"red\")\n",
    "    plt.axvline(avg_uncon, color=\"red\")\n",
    "    print(f\"{false_positive=} and {false_negative=}\")\n",
    "\n",
    "    return (false_positive, false_negative)\n",
    "    "
   ]
  },
  {
   "cell_type": "code",
   "execution_count": 19,
   "id": "776c0126",
   "metadata": {},
   "outputs": [],
   "source": [
    "def prepare_projection_plot(A, d_proj = 50, U = None):\n",
    "    if U is None:\n",
    "        _, U = np.linalg.eigh(A)\n",
    "    f = lambda x,y : np.linalg.norm(U[x, -d_proj:] - U[y, -d_proj:])\n",
    "    con, uncon = projection_statistic(A, f)\n",
    "    return con,uncon"
   ]
  },
  {
   "cell_type": "code",
   "execution_count": 20,
   "id": "0f4ca5ce",
   "metadata": {},
   "outputs": [],
   "source": [
    "sigma, U = np.linalg.eigh(A_gr)"
   ]
  },
  {
   "cell_type": "markdown",
   "id": "10c69dc0",
   "metadata": {},
   "source": [
    "### GR(n=2000, p=10/2000, d=50)\n",
    "\n",
    "Projecting onto top 30 eigenvectors of the laplacian --- projecting on the original Laplacian"
   ]
  },
  {
   "cell_type": "code",
   "execution_count": 52,
   "id": "81e76c22",
   "metadata": {},
   "outputs": [
    {
     "name": "stdout",
     "output_type": "stream",
     "text": [
      "false_positive=0.28338204172125364 and false_negative=0.4193295033307756\n"
     ]
    },
    {
     "ename": "NameError",
     "evalue": "name 'false_positive' is not defined",
     "output_type": "error",
     "traceback": [
      "\u001b[0;31m---------------------------------------------------------------------------\u001b[0m",
      "\u001b[0;31mNameError\u001b[0m                                 Traceback (most recent call last)",
      "Input \u001b[0;32mIn [52]\u001b[0m, in \u001b[0;36m<cell line: 3>\u001b[0;34m()\u001b[0m\n\u001b[1;32m      1\u001b[0m con,uncon \u001b[38;5;241m=\u001b[39m prepare_projection_plot(A_gr_small, d_proj \u001b[38;5;241m=\u001b[39m \u001b[38;5;241m30\u001b[39m)\n\u001b[1;32m      2\u001b[0m display_comparison_plot(con, uncon)\n\u001b[0;32m----> 3\u001b[0m \u001b[38;5;28mprint\u001b[39m(\u001b[38;5;124mf\u001b[39m\u001b[38;5;124m\"\u001b[39m\u001b[38;5;132;01m{\u001b[39;00mfalse_positive\u001b[38;5;132;01m=}\u001b[39;00m\u001b[38;5;124m and \u001b[39m\u001b[38;5;132;01m{\u001b[39;00mfalse_negative\u001b[38;5;132;01m=}\u001b[39;00m\u001b[38;5;124m\"\u001b[39m)\n",
      "\u001b[0;31mNameError\u001b[0m: name 'false_positive' is not defined"
     ]
    },
    {
     "data": {
      "image/png": "[encoded data removed]",
      "text/plain": [
       "<Figure size 432x288 with 1 Axes>"
      ]
     },
     "metadata": {
      "needs_background": "light"
     },
     "output_type": "display_data"
    }
   ],
   "source": [
    "con,uncon = prepare_projection_plot(A_gr_small, d_proj = 30)\n",
    "display_comparison_plot(con, uncon)"
   ]
  },
  {
   "cell_type": "code",
   "execution_count": 25,
   "id": "d5600766",
   "metadata": {},
   "outputs": [],
   "source": [
    "def gramm_schmidt(U):\n",
    "    for i in range(U.shape[0]):\n",
    "        for j in range(i):\n",
    "            U[i, :] -= U[j, :] * U[j,:].dot(U[i,:])\n",
    "        U[i, :] /= np.linalg.norm(U[i, :])"
   ]
  },
  {
   "cell_type": "code",
   "execution_count": 41,
   "id": "0eea47df",
   "metadata": {},
   "outputs": [],
   "source": [
    "def sparse_power_iteration(U, A, iters=3, adj = None):\n",
    "    if adj is None:\n",
    "        adj = adjecency_lists(A)\n",
    "    for _ in range(iters):\n",
    "        U[:,:] = mult_by_sparse_matrix(U, A, adj=adj)\n",
    "        gramm_schmidt(U)\n",
    "    "
   ]
  },
  {
   "cell_type": "code",
   "execution_count": 42,
   "id": "e2b6dc8f",
   "metadata": {},
   "outputs": [],
   "source": [
    "def get_distance(A, U, i, j, adj):\n",
    "    if A[i,j] == 0:\n",
    "        return np.linalg.norm(U[:,i] - U[:, j])\n",
    "        \n",
    "    A[i,j] = A[j,i] = 0\n",
    "    sparse_power_iteration(U, A, iters=4, adj = adj)\n",
    "    A[i,j] = A[j,i] = 1\n",
    "    return np.linalg.norm(U[:, i] - U[:,j])"
   ]
  },
  {
   "cell_type": "code",
   "execution_count": 55,
   "id": "355d32c9",
   "metadata": {},
   "outputs": [],
   "source": [
    "A_gr_small = gr_graph(2000, 10/2000, 50)\n",
    "sigma, U = np.linalg.eigh(A_gr_small)"
   ]
  },
  {
   "cell_type": "code",
   "execution_count": 56,
   "id": "6bfb18a0",
   "metadata": {},
   "outputs": [],
   "source": [
    "adj_lists = adjecency_lists(A_gr_small)\n",
    "Ucp = U[:, -30:].T.copy()\n",
    "con, uncon = projection_statistic(A_gr_small, lambda x,y: get_distance(A_gr_small, Ucp, x, y, adj_lists))"
   ]
  },
  {
   "cell_type": "markdown",
   "id": "ea8f6456",
   "metadata": {},
   "source": [
    "### Projecting on a Laplacian after removing the potential edge\n",
    "\n",
    "The same plot, as above after correcting for hiding the edge that we want to predict"
   ]
  },
  {
   "cell_type": "code",
   "execution_count": 57,
   "id": "d5620a00",
   "metadata": {},
   "outputs": [
    {
     "name": "stdout",
     "output_type": "stream",
     "text": [
      "false_positive=0.3907294681169544 and false_negative=0.5046789438481512\n"
     ]
    },
    {
     "data": {
      "text/plain": [
       "(0.3907294681169544, 0.5046789438481512)"
      ]
     },
     "execution_count": 57,
     "metadata": {},
     "output_type": "execute_result"
    },
    {
     "data": {
      "image/png": "[encoded data removed]",
      "text/plain": [
       "<Figure size 432x288 with 1 Axes>"
      ]
     },
     "metadata": {
      "needs_background": "light"
     },
     "output_type": "display_data"
    }
   ],
   "source": [
    "display_comparison_plot(con, uncon)"
   ]
  },
  {
   "cell_type": "code",
   "execution_count": null,
   "id": "c330d0e1",
   "metadata": {},
   "outputs": [],
   "source": [
    "xs = []\n",
    "ys = []\n",
    "d = 3.01\n",
    "while d < 400:\n",
    "    dd = int(d)\n",
    "    print(f\"{dd=}\")\n",
    "    _,_,false_positive, false_negative = prepare_projection_plot(A_gr, d_proj = dd, U = U)\n",
    "    xs.append(dd)\n",
    "    ys.append((false_positive, false_negative))\n",
    "    d *= 1.5"
   ]
  },
  {
   "cell_type": "code",
   "execution_count": 107,
   "id": "78322d34",
   "metadata": {},
   "outputs": [],
   "source": [
    "u, v = zip(*ys)"
   ]
  },
  {
   "cell_type": "code",
   "execution_count": 114,
   "id": "84e1e6eb",
   "metadata": {},
   "outputs": [],
   "source": [
    "?plt.plot"
   ]
  },
  {
   "cell_type": "markdown",
   "id": "3742716f",
   "metadata": {},
   "source": [
    "## GR(n=4000, p=10/4000, d=50)\n",
    "\n",
    "False positive rate + false negative rate vs projection dimension\n",
    "\n",
    "(Projection on the top $t$ eigenvectors of the Laplacian of the original graph --- without correcting for removing the edge)"
   ]
  },
  {
   "cell_type": "code",
   "execution_count": 121,
   "id": "84adf340",
   "metadata": {},
   "outputs": [
    {
     "data": {
      "text/plain": [
       "[<matplotlib.lines.Line2D at 0x7f195447db40>]"
      ]
     },
     "execution_count": 121,
     "metadata": {},
     "output_type": "execute_result"
    },
    {
     "data": {
      "image/png": "[encoded data removed]",
      "text/plain": [
       "<Figure size 432x288 with 1 Axes>"
      ]
     },
     "metadata": {
      "needs_background": "light"
     },
     "output_type": "display_data"
    }
   ],
   "source": [
    "plt.plot(xs, [t[0] + t[1] for t in ys])"
   ]
  },
  {
   "cell_type": "markdown",
   "id": "b669f065",
   "metadata": {},
   "source": [
    "## Scratch stuff..."
   ]
  },
  {
   "cell_type": "code",
   "execution_count": 44,
   "id": "e74808b6",
   "metadata": {},
   "outputs": [],
   "source": [
    "def BFS(A, adj_lists, start, stop):\n",
    "    distance = np.full(A.shape[0], -1, dtype=int)\n",
    "    queue = np.zeros(A.shape[0], dtype=int)\n",
    "    head = 0\n",
    "    tail = 0\n",
    "    distance[start] = 0\n",
    "    queue[head]=start\n",
    "    head += 1 \n",
    "    while head > tail:\n",
    "        cur = queue[tail]\n",
    "        tail += 1\n",
    "        for neigh in adj_lists[cur]:\n",
    "            if cur == start and neigh == stop:\n",
    "                continue\n",
    "            if distance[neigh] == -1:\n",
    "                distance[neigh] = distance[cur]+1\n",
    "                queue[head] = neigh\n",
    "                head += 1\n",
    "            if neigh == stop:\n",
    "                break\n",
    "    return distance[stop]"
   ]
  },
  {
   "cell_type": "code",
   "execution_count": 47,
   "id": "4409777c",
   "metadata": {
    "scrolled": true
   },
   "outputs": [
    {
     "data": {
      "text/plain": [
       "7"
      ]
     },
     "execution_count": 47,
     "metadata": {},
     "output_type": "execute_result"
    }
   ],
   "source": [
    "BFS(A_gr_us, adjecency_lists(A_gr_us), 0, 12)"
   ]
  },
  {
   "cell_type": "code",
   "execution_count": 63,
   "id": "8fdb9ea3",
   "metadata": {},
   "outputs": [],
   "source": [
    "A = np.ones(shape=(4,4))"
   ]
  },
  {
   "cell_type": "code",
   "execution_count": 64,
   "id": "b776be31",
   "metadata": {},
   "outputs": [
    {
     "data": {
      "text/plain": [
       "(array([-9.89816667e-16, -3.42450962e-16, -1.23259516e-32,  4.00000000e+00]),\n",
       " array([[-7.95140162e-01, -3.43150291e-01, -7.41676339e-18,\n",
       "          5.00000000e-01],\n",
       "        [ 5.88571918e-01, -6.35281904e-01, -2.25877598e-16,\n",
       "          5.00000000e-01],\n",
       "        [ 1.03284122e-01,  4.89216098e-01, -7.07106781e-01,\n",
       "          5.00000000e-01],\n",
       "        [ 1.03284122e-01,  4.89216098e-01,  7.07106781e-01,\n",
       "          5.00000000e-01]]))"
      ]
     },
     "execution_count": 64,
     "metadata": {},
     "output_type": "execute_result"
    }
   ],
   "source": [
    "np.linalg.eigh(A)"
   ]
  },
  {
   "cell_type": "code",
   "execution_count": null,
   "id": "5122fa00",
   "metadata": {},
   "outputs": [],
   "source": [
    "plt.ion()"
   ]
  },
  {
   "cell_type": "code",
   "execution_count": 43,
   "id": "bfed4aa2",
   "metadata": {},
   "outputs": [],
   "source": [
    "def slider_callback(i):\n",
    "    plot_precission(xs, ys, xs[i], axs=cur_dim_axs)\n",
    "    show_plots(all_plots_list[i], (2,2), [[\"spectrum\",\"degrees\"], [\"neigh_connected\", \"neigh_unconnected\"]], axs=axs)"
   ]
  },
  {
   "cell_type": "code",
   "execution_count": 44,
   "id": "64ed41f0",
   "metadata": {},
   "outputs": [
    {
     "data": {
      "application/vnd.jupyter.widget-view+json": {
       "model_id": "e3d42a51141449968f671b92aec4be96",
       "version_major": 2,
       "version_minor": 0
      },
      "text/plain": [
       "interactive(children=(IntSlider(value=5, description='i', max=11), Output()), _dom_classes=('widget-interact',…"
      ]
     },
     "metadata": {},
     "output_type": "display_data"
    },
    {
     "data": {
      "text/plain": [
       "<function __main__.slider_callback(i)>"
      ]
     },
     "execution_count": 44,
     "metadata": {},
     "output_type": "execute_result"
    }
   ],
   "source": [
    "ipywidgets.interact(slider_callback, i=(0, len(xs)-1))"
   ]
  },
  {
   "cell_type": "code",
   "execution_count": 42,
   "id": "90944a55",
   "metadata": {
    "scrolled": false
   },
   "outputs": [
    {
     "data": {
      "image/png": "[encoded data removed]",
      "text/plain": [
       "<Figure size 1440x1080 with 4 Axes>"
      ]
     },
     "metadata": {
      "needs_background": "light"
     },
     "output_type": "display_data"
    }
   ],
   "source": [
    "axs = show_plots(all_plots_list[0], (2,2), [[\"spectrum\",\"degrees\"], [\"neigh_connected\", \"neigh_unconnected\"]])"
   ]
  },
  {
   "cell_type": "code",
   "execution_count": 58,
   "id": "681ce526",
   "metadata": {},
   "outputs": [
    {
     "ename": "SyntaxError",
     "evalue": "invalid syntax. Perhaps you forgot a comma? (2507611831.py, line 1)",
     "output_type": "error",
     "traceback": [
      "\u001b[0;36m  Input \u001b[0;32mIn [58]\u001b[0;36m\u001b[0m\n\u001b[0;31m    v = np.array([0.1, 2, 1, 0.1 2])\u001b[0m\n\u001b[0m                             ^\u001b[0m\n\u001b[0;31mSyntaxError\u001b[0m\u001b[0;31m:\u001b[0m invalid syntax. Perhaps you forgot a comma?\n"
     ]
    }
   ],
   "source": [
    "v = np.array([0.1, 2, 1, 0.1 2])"
   ]
  },
  {
   "cell_type": "code",
   "execution_count": 15,
   "id": "c78c9290",
   "metadata": {},
   "outputs": [],
   "source": [
    "def cut_profile(A : np.array, S) -> int:\n",
    "    in_S = np.full(A.shape[0], False)\n",
    "    adj = adjecency_lists(A)\n",
    "    cut = 0\n",
    "    result = []\n",
    "    for i in S:\n",
    "        in_S[i] = True\n",
    "        for j in adj[i]:\n",
    "            cut += -1 if in_S[j] == 1 else 1\n",
    "        result.append(cut)\n",
    "    return result\n",
    "        "
   ]
  },
  {
   "cell_type": "code",
   "execution_count": 16,
   "id": "bfd9e100",
   "metadata": {},
   "outputs": [],
   "source": [
    "def graph_cut_pair(n : int, p1 : float, d : int) -> np.array:\n",
    "    h = threshold_from_density(d, p1)\n",
    "    A = gaussian_orthogonal_ensemble(n, d)\n",
    "    S = np.argsort(A[0,:], axis=None)\n",
    "    \n",
    "    A = (A > 1 - h).astype(int)\n",
    "    for i in range(A.shape[0]):\n",
    "        A[i,i] = 0\n",
    "    return (A,S)"
   ]
  },
  {
   "cell_type": "code",
   "execution_count": 17,
   "id": "130f02a3",
   "metadata": {},
   "outputs": [],
   "source": [
    "N = 15000"
   ]
  },
  {
   "cell_type": "code",
   "execution_count": 18,
   "id": "e0485876",
   "metadata": {},
   "outputs": [],
   "source": [
    "A_tmp, S_tmp = graph_cut_pair(N, 10/N, 25)"
   ]
  },
  {
   "cell_type": "code",
   "execution_count": 19,
   "id": "c9c02342",
   "metadata": {},
   "outputs": [],
   "source": [
    "cut = cut_profile(A_tmp, S_tmp)"
   ]
  },
  {
   "cell_type": "code",
   "execution_count": 20,
   "id": "5cb13dec",
   "metadata": {},
   "outputs": [],
   "source": [
    "cut_2 = cut_profile(A_tmp, range(A_tmp.shape[0]))"
   ]
  },
  {
   "cell_type": "markdown",
   "id": "626ec3ad",
   "metadata": {},
   "source": [
    "## Size of the hyperplane cut compared to size of cut in G(n,p)"
   ]
  },
  {
   "cell_type": "code",
   "execution_count": 21,
   "id": "2fa031bc",
   "metadata": {},
   "outputs": [
    {
     "data": {
      "text/plain": [
       "[<matplotlib.lines.Line2D at 0x7fc6e1b3a830>]"
      ]
     },
     "execution_count": 21,
     "metadata": {},
     "output_type": "execute_result"
    },
    {
     "data": {
      "image/png": "[encoded data removed]",
      "text/plain": [
       "<Figure size 432x288 with 1 Axes>"
      ]
     },
     "metadata": {
      "needs_background": "light"
     },
     "output_type": "display_data"
    }
   ],
   "source": [
    "cut_a1 = np.array(cut[:-1])\n",
    "cut_a2 = np.array(cut_2[:-1])\n",
    "t = np.array([min(i, N-i) for i in range(1, N)])\n",
    "x = np.linspace(1, N-1, N-1)\n",
    "plt.plot(x, cut_a1/N)\n",
    "plt.plot(x, cut_a1/t)\n",
    "plt.plot(x, cut_a2/t)"
   ]
  },
  {
   "cell_type": "code",
   "execution_count": 26,
   "id": "c97d7ab8",
   "metadata": {},
   "outputs": [
    {
     "data": {
      "text/plain": [
       "8.6625"
      ]
     },
     "execution_count": 26,
     "metadata": {},
     "output_type": "execute_result"
    }
   ],
   "source": [
    "cut_a1[400]/400"
   ]
  },
  {
   "cell_type": "code",
   "execution_count": 84,
   "id": "a0690165",
   "metadata": {},
   "outputs": [
    {
     "data": {
      "text/plain": [
       "array([1, 2, 3, ..., 3, 2, 1])"
      ]
     },
     "execution_count": 84,
     "metadata": {},
     "output_type": "execute_result"
    }
   ],
   "source": [
    "t"
   ]
  },
  {
   "cell_type": "code",
   "execution_count": 86,
   "id": "48df6407",
   "metadata": {},
   "outputs": [
    {
     "data": {
      "text/plain": [
       "6"
      ]
     },
     "execution_count": 86,
     "metadata": {},
     "output_type": "execute_result"
    }
   ],
   "source": [
    "cut_a[0]"
   ]
  },
  {
   "cell_type": "code",
   "execution_count": 92,
   "id": "27f323da",
   "metadata": {},
   "outputs": [
    {
     "data": {
      "text/plain": [
       "(array([   0,    1,    2,    3, 3995, 3996, 3997, 3998]),)"
      ]
     },
     "execution_count": 92,
     "metadata": {},
     "output_type": "execute_result"
    }
   ],
   "source": [
    "np.where(t  < 5)"
   ]
  },
  {
   "cell_type": "code",
   "execution_count": null,
   "id": "2c1fdd2f",
   "metadata": {},
   "outputs": [],
   "source": []
  }
 ],
 "metadata": {
  "kernelspec": {
   "display_name": "Python 3 (ipykernel)",
   "language": "python",
   "name": "python3"
  },
  "language_info": {
   "codemirror_mode": {
    "name": "ipython",
    "version": 3
   },
   "file_extension": ".py",
   "mimetype": "text/x-python",
   "name": "python",
   "nbconvert_exporter": "python",
   "pygments_lexer": "ipython3",
   "version": "3.10.4"
  }
 },
 "nbformat": 4,
 "nbformat_minor": 5
}
